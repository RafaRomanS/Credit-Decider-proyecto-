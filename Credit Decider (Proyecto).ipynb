{
 "cells": [
  {
   "cell_type": "markdown",
   "id": "ad9afa64",
   "metadata": {},
   "source": [
    "<h1 style=\"text-align:center;\">OBJETIVO DEL MODELO</h1>\n",
    "\n",
    "<br>\n",
    "\n",
    "<center>\n",
    "Este modelo trata de predecir si el cliente pagará o no el credito que solicita\n",
    "</center>"
   ]
  },
  {
   "cell_type": "markdown",
   "id": "babb5518",
   "metadata": {},
   "source": [
    "## Importamos el archivo"
   ]
  },
  {
   "cell_type": "code",
   "execution_count": 32,
   "id": "69a77680",
   "metadata": {},
   "outputs": [
    {
     "name": "stdout",
     "output_type": "stream",
     "text": [
      "El tamaño de la tabla es: (4455, 14)\n"
     ]
    },
    {
     "data": {
      "text/html": [
       "<div>\n",
       "<style scoped>\n",
       "    .dataframe tbody tr th:only-of-type {\n",
       "        vertical-align: middle;\n",
       "    }\n",
       "\n",
       "    .dataframe tbody tr th {\n",
       "        vertical-align: top;\n",
       "    }\n",
       "\n",
       "    .dataframe thead th {\n",
       "        text-align: right;\n",
       "    }\n",
       "</style>\n",
       "<table border=\"1\" class=\"dataframe\">\n",
       "  <thead>\n",
       "    <tr style=\"text-align: right;\">\n",
       "      <th></th>\n",
       "      <th>Status</th>\n",
       "      <th>Seniority</th>\n",
       "      <th>Home</th>\n",
       "      <th>Time</th>\n",
       "      <th>Age</th>\n",
       "      <th>Marital</th>\n",
       "      <th>Records</th>\n",
       "      <th>Job</th>\n",
       "      <th>Expenses</th>\n",
       "      <th>Income</th>\n",
       "      <th>Assets</th>\n",
       "      <th>Debt</th>\n",
       "      <th>Amount</th>\n",
       "      <th>Price</th>\n",
       "    </tr>\n",
       "  </thead>\n",
       "  <tbody>\n",
       "    <tr>\n",
       "      <th>0</th>\n",
       "      <td>1</td>\n",
       "      <td>9</td>\n",
       "      <td>1</td>\n",
       "      <td>60</td>\n",
       "      <td>30</td>\n",
       "      <td>2</td>\n",
       "      <td>1</td>\n",
       "      <td>3</td>\n",
       "      <td>73</td>\n",
       "      <td>129</td>\n",
       "      <td>0</td>\n",
       "      <td>0</td>\n",
       "      <td>800</td>\n",
       "      <td>846</td>\n",
       "    </tr>\n",
       "    <tr>\n",
       "      <th>1</th>\n",
       "      <td>1</td>\n",
       "      <td>17</td>\n",
       "      <td>1</td>\n",
       "      <td>60</td>\n",
       "      <td>58</td>\n",
       "      <td>3</td>\n",
       "      <td>1</td>\n",
       "      <td>1</td>\n",
       "      <td>48</td>\n",
       "      <td>131</td>\n",
       "      <td>0</td>\n",
       "      <td>0</td>\n",
       "      <td>1000</td>\n",
       "      <td>1658</td>\n",
       "    </tr>\n",
       "    <tr>\n",
       "      <th>2</th>\n",
       "      <td>2</td>\n",
       "      <td>10</td>\n",
       "      <td>2</td>\n",
       "      <td>36</td>\n",
       "      <td>46</td>\n",
       "      <td>2</td>\n",
       "      <td>2</td>\n",
       "      <td>3</td>\n",
       "      <td>90</td>\n",
       "      <td>200</td>\n",
       "      <td>3000</td>\n",
       "      <td>0</td>\n",
       "      <td>2000</td>\n",
       "      <td>2985</td>\n",
       "    </tr>\n",
       "    <tr>\n",
       "      <th>3</th>\n",
       "      <td>1</td>\n",
       "      <td>0</td>\n",
       "      <td>1</td>\n",
       "      <td>60</td>\n",
       "      <td>24</td>\n",
       "      <td>1</td>\n",
       "      <td>1</td>\n",
       "      <td>1</td>\n",
       "      <td>63</td>\n",
       "      <td>182</td>\n",
       "      <td>2500</td>\n",
       "      <td>0</td>\n",
       "      <td>900</td>\n",
       "      <td>1325</td>\n",
       "    </tr>\n",
       "    <tr>\n",
       "      <th>4</th>\n",
       "      <td>1</td>\n",
       "      <td>0</td>\n",
       "      <td>1</td>\n",
       "      <td>36</td>\n",
       "      <td>26</td>\n",
       "      <td>1</td>\n",
       "      <td>1</td>\n",
       "      <td>1</td>\n",
       "      <td>46</td>\n",
       "      <td>107</td>\n",
       "      <td>0</td>\n",
       "      <td>0</td>\n",
       "      <td>310</td>\n",
       "      <td>910</td>\n",
       "    </tr>\n",
       "  </tbody>\n",
       "</table>\n",
       "</div>"
      ],
      "text/plain": [
       "   Status  Seniority  Home  Time  Age  Marital  Records  Job  Expenses  \\\n",
       "0       1          9     1    60   30        2        1    3        73   \n",
       "1       1         17     1    60   58        3        1    1        48   \n",
       "2       2         10     2    36   46        2        2    3        90   \n",
       "3       1          0     1    60   24        1        1    1        63   \n",
       "4       1          0     1    36   26        1        1    1        46   \n",
       "\n",
       "   Income  Assets  Debt  Amount  Price  \n",
       "0     129       0     0     800    846  \n",
       "1     131       0     0    1000   1658  \n",
       "2     200    3000     0    2000   2985  \n",
       "3     182    2500     0     900   1325  \n",
       "4     107       0     0     310    910  "
      ]
     },
     "execution_count": 32,
     "metadata": {},
     "output_type": "execute_result"
    }
   ],
   "source": [
    "# Importamos el archivo CSV con el que vamos a trabajar\n",
    "import pandas as pd\n",
    "\n",
    "df = pd.read_csv('CreditScoring.csv')\n",
    "\n",
    "# Comprobamos las dimensiones del dataframe\n",
    "print('El tamaño de la tabla es:',df.shape)\n",
    "\n",
    "# Imprimimos las primeras filas para ver el dataframe\n",
    "df.head()"
   ]
  },
  {
   "cell_type": "markdown",
   "id": "2850ed49",
   "metadata": {},
   "source": [
    "<br>\n",
    "<br>"
   ]
  },
  {
   "cell_type": "markdown",
   "id": "bb5ac200",
   "metadata": {},
   "source": [
    "## Prepocesamiento"
   ]
  },
  {
   "cell_type": "code",
   "execution_count": 33,
   "id": "32eb49a4",
   "metadata": {},
   "outputs": [
    {
     "data": {
      "text/plain": [
       "Index(['status', 'seniority', 'home', 'time', 'age', 'marital', 'records',\n",
       "       'job', 'expenses', 'income', 'assets', 'debt', 'amount', 'price'],\n",
       "      dtype='object')"
      ]
     },
     "execution_count": 33,
     "metadata": {},
     "output_type": "execute_result"
    }
   ],
   "source": [
    "# Modificamos el nombre de las columnas para que todos estén en minúsculas\n",
    "df.columns = df.columns.str.lower()\n",
    "df.columns"
   ]
  },
  {
   "cell_type": "code",
   "execution_count": 34,
   "id": "fe195786",
   "metadata": {},
   "outputs": [
    {
     "data": {
      "text/html": [
       "<div>\n",
       "<style scoped>\n",
       "    .dataframe tbody tr th:only-of-type {\n",
       "        vertical-align: middle;\n",
       "    }\n",
       "\n",
       "    .dataframe tbody tr th {\n",
       "        vertical-align: top;\n",
       "    }\n",
       "\n",
       "    .dataframe thead th {\n",
       "        text-align: right;\n",
       "    }\n",
       "</style>\n",
       "<table border=\"1\" class=\"dataframe\">\n",
       "  <thead>\n",
       "    <tr style=\"text-align: right;\">\n",
       "      <th></th>\n",
       "      <th>status</th>\n",
       "      <th>seniority</th>\n",
       "      <th>home</th>\n",
       "      <th>time</th>\n",
       "      <th>age</th>\n",
       "      <th>marital</th>\n",
       "      <th>records</th>\n",
       "      <th>job</th>\n",
       "      <th>expenses</th>\n",
       "      <th>income</th>\n",
       "      <th>assets</th>\n",
       "      <th>debt</th>\n",
       "      <th>amount</th>\n",
       "      <th>price</th>\n",
       "    </tr>\n",
       "  </thead>\n",
       "  <tbody>\n",
       "    <tr>\n",
       "      <th>count</th>\n",
       "      <td>4455.0</td>\n",
       "      <td>4455.0</td>\n",
       "      <td>4455.0</td>\n",
       "      <td>4455.0</td>\n",
       "      <td>4455.0</td>\n",
       "      <td>4455.0</td>\n",
       "      <td>4455.0</td>\n",
       "      <td>4455.0</td>\n",
       "      <td>4455.0</td>\n",
       "      <td>4455.0</td>\n",
       "      <td>4455.0</td>\n",
       "      <td>4455.0</td>\n",
       "      <td>4455.0</td>\n",
       "      <td>4455.0</td>\n",
       "    </tr>\n",
       "    <tr>\n",
       "      <th>mean</th>\n",
       "      <td>1.0</td>\n",
       "      <td>8.0</td>\n",
       "      <td>3.0</td>\n",
       "      <td>46.0</td>\n",
       "      <td>37.0</td>\n",
       "      <td>2.0</td>\n",
       "      <td>1.0</td>\n",
       "      <td>2.0</td>\n",
       "      <td>56.0</td>\n",
       "      <td>763317.0</td>\n",
       "      <td>1060341.0</td>\n",
       "      <td>404382.0</td>\n",
       "      <td>1039.0</td>\n",
       "      <td>1463.0</td>\n",
       "    </tr>\n",
       "    <tr>\n",
       "      <th>std</th>\n",
       "      <td>0.0</td>\n",
       "      <td>8.0</td>\n",
       "      <td>2.0</td>\n",
       "      <td>15.0</td>\n",
       "      <td>11.0</td>\n",
       "      <td>1.0</td>\n",
       "      <td>0.0</td>\n",
       "      <td>1.0</td>\n",
       "      <td>20.0</td>\n",
       "      <td>8703625.0</td>\n",
       "      <td>10217569.0</td>\n",
       "      <td>6344253.0</td>\n",
       "      <td>475.0</td>\n",
       "      <td>628.0</td>\n",
       "    </tr>\n",
       "    <tr>\n",
       "      <th>min</th>\n",
       "      <td>0.0</td>\n",
       "      <td>0.0</td>\n",
       "      <td>0.0</td>\n",
       "      <td>6.0</td>\n",
       "      <td>18.0</td>\n",
       "      <td>0.0</td>\n",
       "      <td>1.0</td>\n",
       "      <td>0.0</td>\n",
       "      <td>35.0</td>\n",
       "      <td>0.0</td>\n",
       "      <td>0.0</td>\n",
       "      <td>0.0</td>\n",
       "      <td>100.0</td>\n",
       "      <td>105.0</td>\n",
       "    </tr>\n",
       "    <tr>\n",
       "      <th>25%</th>\n",
       "      <td>1.0</td>\n",
       "      <td>2.0</td>\n",
       "      <td>2.0</td>\n",
       "      <td>36.0</td>\n",
       "      <td>28.0</td>\n",
       "      <td>2.0</td>\n",
       "      <td>1.0</td>\n",
       "      <td>1.0</td>\n",
       "      <td>35.0</td>\n",
       "      <td>80.0</td>\n",
       "      <td>0.0</td>\n",
       "      <td>0.0</td>\n",
       "      <td>700.0</td>\n",
       "      <td>1118.0</td>\n",
       "    </tr>\n",
       "    <tr>\n",
       "      <th>50%</th>\n",
       "      <td>1.0</td>\n",
       "      <td>5.0</td>\n",
       "      <td>2.0</td>\n",
       "      <td>48.0</td>\n",
       "      <td>36.0</td>\n",
       "      <td>2.0</td>\n",
       "      <td>1.0</td>\n",
       "      <td>1.0</td>\n",
       "      <td>51.0</td>\n",
       "      <td>120.0</td>\n",
       "      <td>3500.0</td>\n",
       "      <td>0.0</td>\n",
       "      <td>1000.0</td>\n",
       "      <td>1400.0</td>\n",
       "    </tr>\n",
       "    <tr>\n",
       "      <th>75%</th>\n",
       "      <td>2.0</td>\n",
       "      <td>12.0</td>\n",
       "      <td>4.0</td>\n",
       "      <td>60.0</td>\n",
       "      <td>45.0</td>\n",
       "      <td>2.0</td>\n",
       "      <td>1.0</td>\n",
       "      <td>3.0</td>\n",
       "      <td>72.0</td>\n",
       "      <td>166.0</td>\n",
       "      <td>6000.0</td>\n",
       "      <td>0.0</td>\n",
       "      <td>1300.0</td>\n",
       "      <td>1692.0</td>\n",
       "    </tr>\n",
       "    <tr>\n",
       "      <th>max</th>\n",
       "      <td>2.0</td>\n",
       "      <td>48.0</td>\n",
       "      <td>6.0</td>\n",
       "      <td>72.0</td>\n",
       "      <td>68.0</td>\n",
       "      <td>5.0</td>\n",
       "      <td>2.0</td>\n",
       "      <td>4.0</td>\n",
       "      <td>180.0</td>\n",
       "      <td>99999999.0</td>\n",
       "      <td>99999999.0</td>\n",
       "      <td>99999999.0</td>\n",
       "      <td>5000.0</td>\n",
       "      <td>11140.0</td>\n",
       "    </tr>\n",
       "  </tbody>\n",
       "</table>\n",
       "</div>"
      ],
      "text/plain": [
       "       status  seniority    home    time     age  marital  records     job  \\\n",
       "count  4455.0     4455.0  4455.0  4455.0  4455.0   4455.0   4455.0  4455.0   \n",
       "mean      1.0        8.0     3.0    46.0    37.0      2.0      1.0     2.0   \n",
       "std       0.0        8.0     2.0    15.0    11.0      1.0      0.0     1.0   \n",
       "min       0.0        0.0     0.0     6.0    18.0      0.0      1.0     0.0   \n",
       "25%       1.0        2.0     2.0    36.0    28.0      2.0      1.0     1.0   \n",
       "50%       1.0        5.0     2.0    48.0    36.0      2.0      1.0     1.0   \n",
       "75%       2.0       12.0     4.0    60.0    45.0      2.0      1.0     3.0   \n",
       "max       2.0       48.0     6.0    72.0    68.0      5.0      2.0     4.0   \n",
       "\n",
       "       expenses      income      assets        debt  amount    price  \n",
       "count    4455.0      4455.0      4455.0      4455.0  4455.0   4455.0  \n",
       "mean       56.0    763317.0   1060341.0    404382.0  1039.0   1463.0  \n",
       "std        20.0   8703625.0  10217569.0   6344253.0   475.0    628.0  \n",
       "min        35.0         0.0         0.0         0.0   100.0    105.0  \n",
       "25%        35.0        80.0         0.0         0.0   700.0   1118.0  \n",
       "50%        51.0       120.0      3500.0         0.0  1000.0   1400.0  \n",
       "75%        72.0       166.0      6000.0         0.0  1300.0   1692.0  \n",
       "max       180.0  99999999.0  99999999.0  99999999.0  5000.0  11140.0  "
      ]
     },
     "execution_count": 34,
     "metadata": {},
     "output_type": "execute_result"
    }
   ],
   "source": [
    "# Comprobamos varias estadisticas de las columnas del dataframe\n",
    "df.describe().round()"
   ]
  },
  {
   "cell_type": "markdown",
   "id": "e49a6159",
   "metadata": {},
   "source": [
    "**Como podemos ver los valores máximos de \"income\", \"assets\" y \"debt\" son valores erroneos, los cuales vamos a eliminar**\n",
    "\n",
    "**En esta ocasión lo sustituiremos por un valor nulo, más tarde decidiremos como tratarlos**"
   ]
  },
  {
   "cell_type": "code",
   "execution_count": 35,
   "id": "f835d96b",
   "metadata": {},
   "outputs": [],
   "source": [
    "# Reemplazamos los valores erroneos por nulos\n",
    "import numpy as np\n",
    "\n",
    "for c in ['income', 'assets', 'debt']:\n",
    "    df[c] = df[c].replace(to_replace=99999999, value=np.nan)"
   ]
  },
  {
   "cell_type": "markdown",
   "id": "fff07b40",
   "metadata": {},
   "source": [
    "<br>\n",
    "<br>"
   ]
  },
  {
   "cell_type": "markdown",
   "id": "caf2ebb1",
   "metadata": {},
   "source": [
    "**Verificamos si el valor 0 de la columna \"status\" es un valor erróneo**"
   ]
  },
  {
   "cell_type": "code",
   "execution_count": 36,
   "id": "b507d6d1",
   "metadata": {},
   "outputs": [
    {
     "data": {
      "text/plain": [
       "1    3200\n",
       "2    1254\n",
       "0       1\n",
       "Name: status, dtype: int64"
      ]
     },
     "execution_count": 36,
     "metadata": {},
     "output_type": "execute_result"
    }
   ],
   "source": [
    "# Observamos los valores de la columna \"status\" para corroborar que el valor \"0\" es un error\n",
    "df.status.value_counts()"
   ]
  },
  {
   "cell_type": "markdown",
   "id": "b07f4168",
   "metadata": {},
   "source": [
    "<br>\n",
    "<br>"
   ]
  },
  {
   "cell_type": "markdown",
   "id": "4241b24d",
   "metadata": {},
   "source": [
    "**Corroboramos que el valor 0 es un error, procedemos a eliminar esa fila**"
   ]
  },
  {
   "cell_type": "code",
   "execution_count": 37,
   "id": "a9bb723a",
   "metadata": {},
   "outputs": [],
   "source": [
    "# Filtramos para eliminar esa fila de nuestro dataframe\n",
    "df = df[df.status != 0]"
   ]
  },
  {
   "cell_type": "markdown",
   "id": "f6158a4b",
   "metadata": {},
   "source": [
    "<br>\n",
    "<br>"
   ]
  },
  {
   "cell_type": "markdown",
   "id": "5c2e2115",
   "metadata": {},
   "source": [
    "**Mapeamos las filas con solo 2 valores**"
   ]
  },
  {
   "cell_type": "code",
   "execution_count": 38,
   "id": "ea867231",
   "metadata": {},
   "outputs": [],
   "source": [
    "# Definimos nuevos valores para \"status\" y \"records\" para facilitar su compresión\n",
    "bool_mapping = {1: 0, 2: 1}\n",
    "\n",
    "# Aplicamos el mapeo utilizando map\n",
    "df.status = df.status.map(bool_mapping)\n",
    "df.records = df.records.map(bool_mapping)"
   ]
  },
  {
   "cell_type": "markdown",
   "id": "646b7cd2",
   "metadata": {},
   "source": [
    "<br>\n",
    "<br>"
   ]
  },
  {
   "cell_type": "markdown",
   "id": "90e0b7e8",
   "metadata": {},
   "source": [
    "**Convertimos algunas columnas en categoricas**"
   ]
  },
  {
   "cell_type": "code",
   "execution_count": 39,
   "id": "55afa15d",
   "metadata": {},
   "outputs": [],
   "source": [
    "# Categorizamos las siguientes columnas\n",
    "df.home =  df.home.astype('category')\n",
    "df.marital = df.marital.astype('category')\n",
    "df.job = df.job.astype('category')\n"
   ]
  },
  {
   "cell_type": "markdown",
   "id": "b159b7ca",
   "metadata": {},
   "source": [
    "<br>\n",
    "<br>"
   ]
  },
  {
   "cell_type": "markdown",
   "id": "1472d1e2",
   "metadata": {},
   "source": [
    "**Verificamos la cantidad de nulos que tenemos para decidir como tratarlos**"
   ]
  },
  {
   "cell_type": "code",
   "execution_count": 40,
   "id": "14565fbc",
   "metadata": {},
   "outputs": [
    {
     "data": {
      "text/plain": [
       "status       0.00\n",
       "seniority    0.00\n",
       "home         0.00\n",
       "time         0.00\n",
       "age          0.00\n",
       "marital      0.00\n",
       "records      0.00\n",
       "job          0.00\n",
       "expenses     0.00\n",
       "income       0.76\n",
       "assets       1.06\n",
       "debt         0.40\n",
       "amount       0.00\n",
       "price        0.00\n",
       "dtype: float64"
      ]
     },
     "execution_count": 40,
     "metadata": {},
     "output_type": "execute_result"
    }
   ],
   "source": [
    "# Analizamos el porcentaje de nulos en cada columna\n",
    "(df.isnull().mean() * 100).round(2)"
   ]
  },
  {
   "cell_type": "markdown",
   "id": "0a1b8fab",
   "metadata": {},
   "source": [
    "**Ya que los porcentajes de nulos son muy bajos decidimos eliminar cualquier fila que contenga un nulo**"
   ]
  },
  {
   "cell_type": "code",
   "execution_count": 41,
   "id": "02cc7771",
   "metadata": {},
   "outputs": [],
   "source": [
    "# Eliminamos cualquier fila que tenga un nulo en cualquiera de las columnas\n",
    "df = df.dropna()"
   ]
  },
  {
   "cell_type": "code",
   "execution_count": 42,
   "id": "c6662efc",
   "metadata": {},
   "outputs": [
    {
     "name": "stdout",
     "output_type": "stream",
     "text": [
      "(4377, 14)\n"
     ]
    },
    {
     "data": {
      "text/html": [
       "<div>\n",
       "<style scoped>\n",
       "    .dataframe tbody tr th:only-of-type {\n",
       "        vertical-align: middle;\n",
       "    }\n",
       "\n",
       "    .dataframe tbody tr th {\n",
       "        vertical-align: top;\n",
       "    }\n",
       "\n",
       "    .dataframe thead th {\n",
       "        text-align: right;\n",
       "    }\n",
       "</style>\n",
       "<table border=\"1\" class=\"dataframe\">\n",
       "  <thead>\n",
       "    <tr style=\"text-align: right;\">\n",
       "      <th></th>\n",
       "      <th>status</th>\n",
       "      <th>seniority</th>\n",
       "      <th>home</th>\n",
       "      <th>time</th>\n",
       "      <th>age</th>\n",
       "      <th>marital</th>\n",
       "      <th>records</th>\n",
       "      <th>job</th>\n",
       "      <th>expenses</th>\n",
       "      <th>income</th>\n",
       "      <th>assets</th>\n",
       "      <th>debt</th>\n",
       "      <th>amount</th>\n",
       "      <th>price</th>\n",
       "    </tr>\n",
       "  </thead>\n",
       "  <tbody>\n",
       "    <tr>\n",
       "      <th>3291</th>\n",
       "      <td>0</td>\n",
       "      <td>2</td>\n",
       "      <td>5</td>\n",
       "      <td>36</td>\n",
       "      <td>28</td>\n",
       "      <td>1</td>\n",
       "      <td>1</td>\n",
       "      <td>1</td>\n",
       "      <td>35</td>\n",
       "      <td>51.0</td>\n",
       "      <td>0.0</td>\n",
       "      <td>0.0</td>\n",
       "      <td>325</td>\n",
       "      <td>525</td>\n",
       "    </tr>\n",
       "    <tr>\n",
       "      <th>1100</th>\n",
       "      <td>0</td>\n",
       "      <td>12</td>\n",
       "      <td>1</td>\n",
       "      <td>36</td>\n",
       "      <td>35</td>\n",
       "      <td>2</td>\n",
       "      <td>1</td>\n",
       "      <td>3</td>\n",
       "      <td>82</td>\n",
       "      <td>74.0</td>\n",
       "      <td>8000.0</td>\n",
       "      <td>0.0</td>\n",
       "      <td>475</td>\n",
       "      <td>550</td>\n",
       "    </tr>\n",
       "    <tr>\n",
       "      <th>432</th>\n",
       "      <td>0</td>\n",
       "      <td>3</td>\n",
       "      <td>1</td>\n",
       "      <td>48</td>\n",
       "      <td>60</td>\n",
       "      <td>3</td>\n",
       "      <td>0</td>\n",
       "      <td>3</td>\n",
       "      <td>54</td>\n",
       "      <td>186.0</td>\n",
       "      <td>0.0</td>\n",
       "      <td>0.0</td>\n",
       "      <td>850</td>\n",
       "      <td>1036</td>\n",
       "    </tr>\n",
       "    <tr>\n",
       "      <th>1171</th>\n",
       "      <td>1</td>\n",
       "      <td>7</td>\n",
       "      <td>2</td>\n",
       "      <td>48</td>\n",
       "      <td>29</td>\n",
       "      <td>2</td>\n",
       "      <td>0</td>\n",
       "      <td>1</td>\n",
       "      <td>60</td>\n",
       "      <td>62.0</td>\n",
       "      <td>4000.0</td>\n",
       "      <td>0.0</td>\n",
       "      <td>984</td>\n",
       "      <td>984</td>\n",
       "    </tr>\n",
       "    <tr>\n",
       "      <th>1562</th>\n",
       "      <td>0</td>\n",
       "      <td>0</td>\n",
       "      <td>2</td>\n",
       "      <td>36</td>\n",
       "      <td>62</td>\n",
       "      <td>2</td>\n",
       "      <td>0</td>\n",
       "      <td>4</td>\n",
       "      <td>45</td>\n",
       "      <td>73.0</td>\n",
       "      <td>5000.0</td>\n",
       "      <td>0.0</td>\n",
       "      <td>430</td>\n",
       "      <td>1132</td>\n",
       "    </tr>\n",
       "  </tbody>\n",
       "</table>\n",
       "</div>"
      ],
      "text/plain": [
       "      status  seniority home  time  age marital  records job  expenses  \\\n",
       "3291       0          2    5    36   28       1        1   1        35   \n",
       "1100       0         12    1    36   35       2        1   3        82   \n",
       "432        0          3    1    48   60       3        0   3        54   \n",
       "1171       1          7    2    48   29       2        0   1        60   \n",
       "1562       0          0    2    36   62       2        0   4        45   \n",
       "\n",
       "      income  assets  debt  amount  price  \n",
       "3291    51.0     0.0   0.0     325    525  \n",
       "1100    74.0  8000.0   0.0     475    550  \n",
       "432    186.0     0.0   0.0     850   1036  \n",
       "1171    62.0  4000.0   0.0     984    984  \n",
       "1562    73.0  5000.0   0.0     430   1132  "
      ]
     },
     "execution_count": 42,
     "metadata": {},
     "output_type": "execute_result"
    }
   ],
   "source": [
    "# Comprobamos un ejemplo aleatorio del dataframe así como el tamaño definitivo que tiene\n",
    "print(df.shape)\n",
    "df.sample(5)"
   ]
  },
  {
   "cell_type": "markdown",
   "id": "23dc3d07",
   "metadata": {},
   "source": [
    "<br>\n",
    "<br>"
   ]
  },
  {
   "cell_type": "markdown",
   "id": "a34f0821",
   "metadata": {},
   "source": [
    "## Preparación del dataset"
   ]
  },
  {
   "cell_type": "code",
   "execution_count": 43,
   "id": "be8801a9",
   "metadata": {},
   "outputs": [],
   "source": [
    "# Dividimos el dataframe entre entrenamiento y validacion\n",
    "from sklearn.model_selection import train_test_split\n",
    "\n",
    "x = df.drop(columns=['status'])\n",
    "y = df.status\n",
    "\n",
    "x_train, x_test, y_train, y_test = train_test_split(x, y, test_size=0.2, random_state=99)"
   ]
  },
  {
   "cell_type": "markdown",
   "id": "0c6cb6f0",
   "metadata": {},
   "source": [
    "<br>\n",
    "<br>"
   ]
  },
  {
   "cell_type": "markdown",
   "id": "03410133",
   "metadata": {},
   "source": [
    "#### Función cálculo overfittiing y underfitting"
   ]
  },
  {
   "cell_type": "markdown",
   "id": "c2db6d1e",
   "metadata": {},
   "source": [
    "Mediremos el overfitting y el underfitting en función a la métrica AUC"
   ]
  },
  {
   "cell_type": "code",
   "execution_count": 44,
   "id": "e7ad70bc",
   "metadata": {},
   "outputs": [],
   "source": [
    "def evaluar_fit(auc_train, auc_test):\n",
    "    \n",
    "    dif = auc_train - auc_test\n",
    "    under = abs(dif) if dif < 0 else 0\n",
    "    over = dif if dif > 0 else 0\n",
    "        \n",
    "    return under, over"
   ]
  },
  {
   "cell_type": "markdown",
   "id": "b61e1a69",
   "metadata": {},
   "source": [
    "## Modelos"
   ]
  },
  {
   "cell_type": "markdown",
   "id": "d2eda3d6",
   "metadata": {},
   "source": [
    "Vamos a hacer una primera iteración de los principales modelos para ver que resultado obtenemos"
   ]
  },
  {
   "cell_type": "markdown",
   "id": "a0b2a5d5",
   "metadata": {},
   "source": [
    "#### RandomForest"
   ]
  },
  {
   "cell_type": "code",
   "execution_count": 45,
   "id": "96c62997",
   "metadata": {},
   "outputs": [],
   "source": [
    "# Buscamos los hiperparamentros para el modelo RandomForest\n",
    "from flaml import AutoML\n",
    "\n",
    "automl_forest = AutoML()\n",
    "settings = {\n",
    "    'task': 'classification',\n",
    "    'estimator_list': ['rf'],\n",
    "    'time_budget': 600,\n",
    "    'metric': 'roc_auc',\n",
    "    'verbose': 1\n",
    "}\n",
    "\n",
    "automl_forest.fit(x_train, y_train, **settings)"
   ]
  },
  {
   "cell_type": "code",
   "execution_count": 46,
   "id": "e6619077",
   "metadata": {},
   "outputs": [],
   "source": [
    "# Predecimos con el modelo con hiperparametros\n",
    "y_pred_train_rf = automl_forest.predict(x_train)\n",
    "probs_train_rf = automl_forest.predict_proba(x_train)[:, 1]\n",
    "\n",
    "y_pred_test_rf = automl_forest.predict(x_test)\n",
    "probs_test_rf = automl_forest.predict_proba(x_test)[:, 1]"
   ]
  },
  {
   "cell_type": "code",
   "execution_count": 47,
   "id": "4e014b2d",
   "metadata": {},
   "outputs": [
    {
     "data": {
      "text/html": [
       "<div>\n",
       "<style scoped>\n",
       "    .dataframe tbody tr th:only-of-type {\n",
       "        vertical-align: middle;\n",
       "    }\n",
       "\n",
       "    .dataframe tbody tr th {\n",
       "        vertical-align: top;\n",
       "    }\n",
       "\n",
       "    .dataframe thead th {\n",
       "        text-align: right;\n",
       "    }\n",
       "</style>\n",
       "<table border=\"1\" class=\"dataframe\">\n",
       "  <thead>\n",
       "    <tr style=\"text-align: right;\">\n",
       "      <th></th>\n",
       "      <th>Test AUC</th>\n",
       "      <th>Test Accuracy</th>\n",
       "      <th>Underfitting</th>\n",
       "      <th>Overfitting</th>\n",
       "    </tr>\n",
       "  </thead>\n",
       "  <tbody>\n",
       "    <tr>\n",
       "      <th>RandomForest</th>\n",
       "      <td>0.849367</td>\n",
       "      <td>0.804795</td>\n",
       "      <td>0</td>\n",
       "      <td>0.096049</td>\n",
       "    </tr>\n",
       "  </tbody>\n",
       "</table>\n",
       "</div>"
      ],
      "text/plain": [
       "              Test AUC  Test Accuracy  Underfitting  Overfitting\n",
       "RandomForest  0.849367       0.804795             0     0.096049"
      ]
     },
     "execution_count": 47,
     "metadata": {},
     "output_type": "execute_result"
    }
   ],
   "source": [
    "# Verificamos la eficiencia de nuestro modelo\n",
    "import sklearn\n",
    "from sklearn.metrics import roc_auc_score, accuracy_score\n",
    "\n",
    "train_auc = roc_auc_score(y_train, probs_train_rf)\n",
    "train_accuracy = accuracy_score(y_train, y_pred_train_rf)\n",
    "\n",
    "test_auc = roc_auc_score(y_test, probs_test_rf)\n",
    "test_accuracy = accuracy_score(y_test, y_pred_test_rf)\n",
    "\n",
    "# Ejecutamos la función que nos indica la relacion de resultados entre train y test\n",
    "under, over = evaluar_fit(train_auc, test_auc)\n",
    "\n",
    "# Creamos un DataFrame para almacenar los resultados de los tests\n",
    "df_resultados = pd.DataFrame({\n",
    "    \"Test AUC\": [test_auc],\n",
    "    \"Test Accuracy\": [test_accuracy],\n",
    "    \"Underfitting\": [under],\n",
    "    \"Overfitting\": [over]\n",
    "}, index=[\"RandomForest\"])\n",
    "\n",
    "\n",
    "# Mostramos la tabla con los resultados del test\n",
    "df_resultados"
   ]
  },
  {
   "cell_type": "markdown",
   "id": "51693876",
   "metadata": {},
   "source": [
    "<br>\n",
    "<br>"
   ]
  },
  {
   "cell_type": "markdown",
   "id": "833ebe6a",
   "metadata": {},
   "source": [
    "#### XGBoost"
   ]
  },
  {
   "cell_type": "code",
   "execution_count": 48,
   "id": "40ee78b1",
   "metadata": {},
   "outputs": [],
   "source": [
    "automl_xgb = AutoML()\n",
    "settings = {\n",
    "    'task': 'classification',\n",
    "    'estimator_list': ['xgboost'],\n",
    "    'time_budget': 600,\n",
    "    'metric': 'roc_auc',\n",
    "    'verbose': 1\n",
    "}\n",
    "\n",
    "automl_xgb.fit(x_train, y_train, **settings)"
   ]
  },
  {
   "cell_type": "code",
   "execution_count": 49,
   "id": "22b74adc",
   "metadata": {},
   "outputs": [],
   "source": [
    "# Predecimos con el modelo con hiperparametros\n",
    "y_pred_train_xgb = automl_xgb.predict(x_train)\n",
    "probs_train_xgb = automl_xgb.predict_proba(x_train)[:, 1]\n",
    "\n",
    "y_pred_test_xgb = automl_xgb.predict(x_test)\n",
    "probs_test_xgb = automl_xgb.predict_proba(x_test)[:, 1]"
   ]
  },
  {
   "cell_type": "code",
   "execution_count": 50,
   "id": "f220e049",
   "metadata": {},
   "outputs": [
    {
     "data": {
      "text/html": [
       "<div>\n",
       "<style scoped>\n",
       "    .dataframe tbody tr th:only-of-type {\n",
       "        vertical-align: middle;\n",
       "    }\n",
       "\n",
       "    .dataframe tbody tr th {\n",
       "        vertical-align: top;\n",
       "    }\n",
       "\n",
       "    .dataframe thead th {\n",
       "        text-align: right;\n",
       "    }\n",
       "</style>\n",
       "<table border=\"1\" class=\"dataframe\">\n",
       "  <thead>\n",
       "    <tr style=\"text-align: right;\">\n",
       "      <th></th>\n",
       "      <th>Test AUC</th>\n",
       "      <th>Test Accuracy</th>\n",
       "      <th>Underfitting</th>\n",
       "      <th>Overfitting</th>\n",
       "    </tr>\n",
       "  </thead>\n",
       "  <tbody>\n",
       "    <tr>\n",
       "      <th>RandomForest</th>\n",
       "      <td>0.849367</td>\n",
       "      <td>0.804795</td>\n",
       "      <td>0.0</td>\n",
       "      <td>0.096049</td>\n",
       "    </tr>\n",
       "    <tr>\n",
       "      <th>XGBoost</th>\n",
       "      <td>0.846096</td>\n",
       "      <td>0.813927</td>\n",
       "      <td>0.0</td>\n",
       "      <td>0.044899</td>\n",
       "    </tr>\n",
       "  </tbody>\n",
       "</table>\n",
       "</div>"
      ],
      "text/plain": [
       "              Test AUC  Test Accuracy  Underfitting  Overfitting\n",
       "RandomForest  0.849367       0.804795           0.0     0.096049\n",
       "XGBoost       0.846096       0.813927           0.0     0.044899"
      ]
     },
     "execution_count": 50,
     "metadata": {},
     "output_type": "execute_result"
    }
   ],
   "source": [
    "# Comprobamos los resultados del modelo con hiperparametros\n",
    "train_auc = roc_auc_score(y_train, probs_train_xgb)\n",
    "train_accuracy = accuracy_score(y_train, y_pred_train_xgb)\n",
    "\n",
    "test_auc = roc_auc_score(y_test, probs_test_xgb)\n",
    "test_accuracy = accuracy_score(y_test, y_pred_test_xgb)\n",
    "\n",
    "# Ejecutamos la función que nos indica la relacion de resultados entre train y test\n",
    "under, over = evaluar_fit(train_auc, test_auc)\n",
    "\n",
    "# Agregamos los resultados al df de resultados\n",
    "df_resultados.loc[\"XGBoost\"] = [test_auc, test_accuracy, under, over]\n",
    "df_resultados.sort_values(by='Test AUC', ascending=False)"
   ]
  },
  {
   "cell_type": "markdown",
   "id": "862d1ae8",
   "metadata": {},
   "source": [
    "<br>\n",
    "<br>"
   ]
  },
  {
   "cell_type": "markdown",
   "id": "d871f4d2",
   "metadata": {},
   "source": [
    "#### Catboost"
   ]
  },
  {
   "cell_type": "code",
   "execution_count": 51,
   "id": "e9ce8b92",
   "metadata": {},
   "outputs": [],
   "source": [
    "# Buscamos los mejores hiperparametros para CatBoost\n",
    "automl_cat = AutoML()\n",
    "settings = {\n",
    "    'task': 'classification',\n",
    "    'estimator_list': ['catboost'],\n",
    "    'time_budget': 600,\n",
    "    'metric': 'roc_auc',\n",
    "    'verbose': 1\n",
    "}\n",
    "\n",
    "automl_cat.fit(x_train, y_train, **settings)"
   ]
  },
  {
   "cell_type": "code",
   "execution_count": 52,
   "id": "1e80c288",
   "metadata": {},
   "outputs": [],
   "source": [
    "# Predecimos con el modelo con hiperparametros\n",
    "y_pred_train_cat = automl_cat.predict(x_train)\n",
    "probs_train_cat = automl_cat.predict_proba(x_train)[:, 1]\n",
    "\n",
    "y_pred_test_cat = automl_cat.predict(x_test)\n",
    "probs_test_cat = automl_cat.predict_proba(x_test)[:, 1]"
   ]
  },
  {
   "cell_type": "code",
   "execution_count": 53,
   "id": "c1ff3b63",
   "metadata": {},
   "outputs": [
    {
     "data": {
      "text/html": [
       "<div>\n",
       "<style scoped>\n",
       "    .dataframe tbody tr th:only-of-type {\n",
       "        vertical-align: middle;\n",
       "    }\n",
       "\n",
       "    .dataframe tbody tr th {\n",
       "        vertical-align: top;\n",
       "    }\n",
       "\n",
       "    .dataframe thead th {\n",
       "        text-align: right;\n",
       "    }\n",
       "</style>\n",
       "<table border=\"1\" class=\"dataframe\">\n",
       "  <thead>\n",
       "    <tr style=\"text-align: right;\">\n",
       "      <th></th>\n",
       "      <th>Test AUC</th>\n",
       "      <th>Test Accuracy</th>\n",
       "      <th>Underfitting</th>\n",
       "      <th>Overfitting</th>\n",
       "    </tr>\n",
       "  </thead>\n",
       "  <tbody>\n",
       "    <tr>\n",
       "      <th>CatBoost</th>\n",
       "      <td>0.851683</td>\n",
       "      <td>0.804795</td>\n",
       "      <td>0.0</td>\n",
       "      <td>0.029549</td>\n",
       "    </tr>\n",
       "    <tr>\n",
       "      <th>RandomForest</th>\n",
       "      <td>0.849367</td>\n",
       "      <td>0.804795</td>\n",
       "      <td>0.0</td>\n",
       "      <td>0.096049</td>\n",
       "    </tr>\n",
       "    <tr>\n",
       "      <th>XGBoost</th>\n",
       "      <td>0.846096</td>\n",
       "      <td>0.813927</td>\n",
       "      <td>0.0</td>\n",
       "      <td>0.044899</td>\n",
       "    </tr>\n",
       "  </tbody>\n",
       "</table>\n",
       "</div>"
      ],
      "text/plain": [
       "              Test AUC  Test Accuracy  Underfitting  Overfitting\n",
       "CatBoost      0.851683       0.804795           0.0     0.029549\n",
       "RandomForest  0.849367       0.804795           0.0     0.096049\n",
       "XGBoost       0.846096       0.813927           0.0     0.044899"
      ]
     },
     "execution_count": 53,
     "metadata": {},
     "output_type": "execute_result"
    }
   ],
   "source": [
    "# Comprobamos los resultados del modelo con hiperparametros\n",
    "train_auc = roc_auc_score(y_train, probs_train_cat)\n",
    "train_accuracy = accuracy_score(y_train, y_pred_train_cat)\n",
    "\n",
    "test_auc = roc_auc_score(y_test, probs_test_cat)\n",
    "test_accuracy = accuracy_score(y_test, y_pred_test_cat)\n",
    "\n",
    "# Ejecutamos la función que nos indica la relacion de resultados entre train y test\n",
    "under, over = evaluar_fit(train_auc, test_auc)\n",
    "\n",
    "# Agregamos los resultados al df de resultados\n",
    "df_resultados.loc[\"CatBoost\"] = [test_auc, test_accuracy, under, over]\n",
    "df_resultados.sort_values(by='Test AUC', ascending=False)"
   ]
  },
  {
   "cell_type": "markdown",
   "id": "2913dcf6",
   "metadata": {},
   "source": [
    "<br>\n",
    "<br>"
   ]
  },
  {
   "cell_type": "markdown",
   "id": "1dfdb530",
   "metadata": {},
   "source": [
    "#### LightGBM"
   ]
  },
  {
   "cell_type": "code",
   "execution_count": 54,
   "id": "c4c2f269",
   "metadata": {},
   "outputs": [],
   "source": [
    "# Buscamos los mejores hiperparametros para LightGBM\n",
    "automl_lgbm = AutoML()\n",
    "settings = {\n",
    "    'task': 'classification',\n",
    "    'estimator_list': ['lgbm'],\n",
    "    'time_budget': 600,\n",
    "    'metric': 'roc_auc',\n",
    "    'verbose': 1\n",
    "}\n",
    "\n",
    "automl_lgbm.fit(x_train, y_train, **settings)"
   ]
  },
  {
   "cell_type": "code",
   "execution_count": 55,
   "id": "136226d2",
   "metadata": {},
   "outputs": [],
   "source": [
    "# Predecimos con el modelo con hiperparametros\n",
    "y_pred_train_lgbm = automl_lgbm.predict(x_train)\n",
    "probs_train_lgbm = automl_lgbm.predict_proba(x_train)[:, 1]\n",
    "\n",
    "y_pred_test_lgbm = automl_lgbm.predict(x_test)\n",
    "probs_test_lgbm = automl_lgbm.predict_proba(x_test)[:, 1]"
   ]
  },
  {
   "cell_type": "code",
   "execution_count": 56,
   "id": "1b022b10",
   "metadata": {},
   "outputs": [
    {
     "data": {
      "text/html": [
       "<div>\n",
       "<style scoped>\n",
       "    .dataframe tbody tr th:only-of-type {\n",
       "        vertical-align: middle;\n",
       "    }\n",
       "\n",
       "    .dataframe tbody tr th {\n",
       "        vertical-align: top;\n",
       "    }\n",
       "\n",
       "    .dataframe thead th {\n",
       "        text-align: right;\n",
       "    }\n",
       "</style>\n",
       "<table border=\"1\" class=\"dataframe\">\n",
       "  <thead>\n",
       "    <tr style=\"text-align: right;\">\n",
       "      <th></th>\n",
       "      <th>Test AUC</th>\n",
       "      <th>Test Accuracy</th>\n",
       "      <th>Underfitting</th>\n",
       "      <th>Overfitting</th>\n",
       "    </tr>\n",
       "  </thead>\n",
       "  <tbody>\n",
       "    <tr>\n",
       "      <th>CatBoost</th>\n",
       "      <td>0.851683</td>\n",
       "      <td>0.804795</td>\n",
       "      <td>0.0</td>\n",
       "      <td>0.029549</td>\n",
       "    </tr>\n",
       "    <tr>\n",
       "      <th>RandomForest</th>\n",
       "      <td>0.849367</td>\n",
       "      <td>0.804795</td>\n",
       "      <td>0.0</td>\n",
       "      <td>0.096049</td>\n",
       "    </tr>\n",
       "    <tr>\n",
       "      <th>LightGBM</th>\n",
       "      <td>0.847624</td>\n",
       "      <td>0.807078</td>\n",
       "      <td>0.0</td>\n",
       "      <td>0.037350</td>\n",
       "    </tr>\n",
       "    <tr>\n",
       "      <th>XGBoost</th>\n",
       "      <td>0.846096</td>\n",
       "      <td>0.813927</td>\n",
       "      <td>0.0</td>\n",
       "      <td>0.044899</td>\n",
       "    </tr>\n",
       "  </tbody>\n",
       "</table>\n",
       "</div>"
      ],
      "text/plain": [
       "              Test AUC  Test Accuracy  Underfitting  Overfitting\n",
       "CatBoost      0.851683       0.804795           0.0     0.029549\n",
       "RandomForest  0.849367       0.804795           0.0     0.096049\n",
       "LightGBM      0.847624       0.807078           0.0     0.037350\n",
       "XGBoost       0.846096       0.813927           0.0     0.044899"
      ]
     },
     "execution_count": 56,
     "metadata": {},
     "output_type": "execute_result"
    }
   ],
   "source": [
    "# Comprobamos los resultados del modelo con hiperparametros\n",
    "train_auc = roc_auc_score(y_train, probs_train_lgbm)\n",
    "train_accuracy = accuracy_score(y_train, y_pred_train_lgbm)\n",
    "\n",
    "test_auc = roc_auc_score(y_test, probs_test_lgbm)\n",
    "test_accuracy = accuracy_score(y_test, y_pred_test_lgbm)\n",
    "\n",
    "# Ejecutamos la función que nos indica la relacion de resultados entre train y test\n",
    "under, over = evaluar_fit(train_auc, test_auc)\n",
    "\n",
    "# Agregamos los resultados al df de resultados\n",
    "df_resultados.loc[\"LightGBM\"] = [test_auc, test_accuracy, under, over]\n",
    "df_resultados.sort_values(by='Test AUC', ascending=False)"
   ]
  },
  {
   "cell_type": "markdown",
   "id": "5d7fede4",
   "metadata": {},
   "source": [
    "<br>\n",
    "<br>"
   ]
  },
  {
   "cell_type": "markdown",
   "id": "061a54e2",
   "metadata": {},
   "source": [
    "#### KNN"
   ]
  },
  {
   "cell_type": "code",
   "execution_count": 57,
   "id": "743ac780",
   "metadata": {},
   "outputs": [],
   "source": [
    "# Buscamos los mejores hiperparametros para KNN\n",
    "automl_knn = AutoML()\n",
    "settings = {\n",
    "    'task': 'classification',\n",
    "    'estimator_list': ['kneighbor'],\n",
    "    'time_budget': 600,\n",
    "    'metric': 'roc_auc',\n",
    "    'verbose': 1\n",
    "}\n",
    "\n",
    "automl_knn.fit(x_train, y_train, **settings)"
   ]
  },
  {
   "cell_type": "code",
   "execution_count": 58,
   "id": "980cdbc2",
   "metadata": {},
   "outputs": [],
   "source": [
    "# Predecimos con el modelo con hiperparametros\n",
    "y_pred_train_knn = automl_knn.predict(x_train)\n",
    "probs_train_knn = automl_knn.predict_proba(x_train)[:, 1]\n",
    "\n",
    "y_pred_test_knn = automl_knn.predict(x_test)\n",
    "probs_test_knn = automl_knn.predict_proba(x_test)[:, 1]"
   ]
  },
  {
   "cell_type": "code",
   "execution_count": 62,
   "id": "5fa566fd",
   "metadata": {},
   "outputs": [
    {
     "data": {
      "text/html": [
       "<div>\n",
       "<style scoped>\n",
       "    .dataframe tbody tr th:only-of-type {\n",
       "        vertical-align: middle;\n",
       "    }\n",
       "\n",
       "    .dataframe tbody tr th {\n",
       "        vertical-align: top;\n",
       "    }\n",
       "\n",
       "    .dataframe thead th {\n",
       "        text-align: right;\n",
       "    }\n",
       "</style>\n",
       "<table border=\"1\" class=\"dataframe\">\n",
       "  <thead>\n",
       "    <tr style=\"text-align: right;\">\n",
       "      <th></th>\n",
       "      <th>Test AUC</th>\n",
       "      <th>Test Accuracy</th>\n",
       "      <th>Underfitting</th>\n",
       "      <th>Overfitting</th>\n",
       "    </tr>\n",
       "  </thead>\n",
       "  <tbody>\n",
       "    <tr>\n",
       "      <th>CatBoost</th>\n",
       "      <td>0.851683</td>\n",
       "      <td>0.804795</td>\n",
       "      <td>0.0</td>\n",
       "      <td>0.029549</td>\n",
       "    </tr>\n",
       "    <tr>\n",
       "      <th>RandomForest</th>\n",
       "      <td>0.849367</td>\n",
       "      <td>0.804795</td>\n",
       "      <td>0.0</td>\n",
       "      <td>0.096049</td>\n",
       "    </tr>\n",
       "    <tr>\n",
       "      <th>LightGBM</th>\n",
       "      <td>0.847624</td>\n",
       "      <td>0.807078</td>\n",
       "      <td>0.0</td>\n",
       "      <td>0.037350</td>\n",
       "    </tr>\n",
       "    <tr>\n",
       "      <th>XGBoost</th>\n",
       "      <td>0.846096</td>\n",
       "      <td>0.813927</td>\n",
       "      <td>0.0</td>\n",
       "      <td>0.044899</td>\n",
       "    </tr>\n",
       "    <tr>\n",
       "      <th>KNN</th>\n",
       "      <td>0.704772</td>\n",
       "      <td>0.750000</td>\n",
       "      <td>0.0</td>\n",
       "      <td>0.295228</td>\n",
       "    </tr>\n",
       "  </tbody>\n",
       "</table>\n",
       "</div>"
      ],
      "text/plain": [
       "              Test AUC  Test Accuracy  Underfitting  Overfitting\n",
       "CatBoost      0.851683       0.804795           0.0     0.029549\n",
       "RandomForest  0.849367       0.804795           0.0     0.096049\n",
       "LightGBM      0.847624       0.807078           0.0     0.037350\n",
       "XGBoost       0.846096       0.813927           0.0     0.044899\n",
       "KNN           0.704772       0.750000           0.0     0.295228"
      ]
     },
     "execution_count": 62,
     "metadata": {},
     "output_type": "execute_result"
    }
   ],
   "source": [
    "# Comprobamos los resultados del modelo con hiperparametros\n",
    "train_auc = roc_auc_score(y_train, probs_train_knn)\n",
    "train_accuracy = accuracy_score(y_train, y_pred_train_knn)\n",
    "\n",
    "test_auc = roc_auc_score(y_test, probs_test_knn)\n",
    "test_accuracy = accuracy_score(y_test, y_pred_test_knn)\n",
    "\n",
    "# Ejecutamos la función que nos indica la relacion de resultados entre train y test\n",
    "under, over = evaluar_fit(train_auc, test_auc)\n",
    "\n",
    "# Agregamos los resultados al df de resultados\n",
    "df_resultados.loc[\"KNN\"] = [test_auc, test_accuracy, under, over]\n",
    "df_resultados.sort_values(by='Test AUC', ascending=False)"
   ]
  },
  {
   "cell_type": "markdown",
   "id": "6b1e7c0d",
   "metadata": {},
   "source": [
    "Una vez visto el funcionamiento de los modelos procedemos a realizar tareas de Feature Engineer"
   ]
  },
  {
   "cell_type": "markdown",
   "id": "67fddd95",
   "metadata": {},
   "source": [
    "<br>\n",
    "<br>"
   ]
  },
  {
   "cell_type": "markdown",
   "id": "3b831ca3",
   "metadata": {},
   "source": [
    "## Feature Engineer"
   ]
  },
  {
   "cell_type": "markdown",
   "id": "e314651d",
   "metadata": {},
   "source": [
    "**Antes de crear las variables vamos a ver la relacion que tiene cada columna con la columna objetivo**"
   ]
  },
  {
   "cell_type": "code",
   "execution_count": 87,
   "id": "3f02e1d8",
   "metadata": {},
   "outputs": [
    {
     "name": "stderr",
     "output_type": "stream",
     "text": [
      "C:\\Users\\rafar\\AppData\\Local\\Temp\\ipykernel_23492\\3413941745.py:4: FutureWarning: The default value of numeric_only in DataFrame.corr is deprecated. In a future version, it will default to False. Select only valid columns or specify the value of numeric_only to silence this warning.\n",
      "  correlation_matrix = df.corr()\n"
     ]
    },
    {
     "data": {
      "image/png": "[encoded data removed]",
      "text/plain": [
       "<Figure size 1200x600 with 1 Axes>"
      ]
     },
     "metadata": {},
     "output_type": "display_data"
    }
   ],
   "source": [
    "import seaborn as sns\n",
    "import matplotlib.pyplot as plt\n",
    "\n",
    "correlation_matrix = df.corr()\n",
    "correlation_with_status = correlation_matrix['status']\n",
    "\n",
    "sorted_correlation = correlation_with_status.sort_values(ascending=False)\n",
    "\n",
    "sns.set(style=\"whitegrid\")\n",
    "plt.figure(figsize=(12, 6))\n",
    "sns.heatmap(df[sorted_correlation.index].corr().loc['status'].to_frame(), annot=True, cmap=\"Oranges\", cbar=False)\n",
    "plt.title(\"Mapa de calor de correlaciones con 'status'\", fontsize=16)\n",
    "plt.show()"
   ]
  },
  {
   "cell_type": "markdown",
   "id": "6fc4f200",
   "metadata": {},
   "source": [
    "**En el gráfico podemos ver cuales son las variables que más podrían afectar al modelo, que son las siguientes: \"records\", \"seniority\", \"income\" y \"amount\"**"
   ]
  },
  {
   "cell_type": "markdown",
   "id": "ba8ec855",
   "metadata": {},
   "source": [
    "<br>\n",
    "<br>"
   ]
  },
  {
   "cell_type": "markdown",
   "id": "ae53cf84",
   "metadata": {},
   "source": [
    "**Ahora crearemos una función la cual nos permitirá crear nuevas variables, así como eliminar las variables que no nos aportan valor**"
   ]
  },
  {
   "cell_type": "code",
   "execution_count": 88,
   "id": "41b67dcb",
   "metadata": {},
   "outputs": [],
   "source": [
    "# Creamos la función\n",
    "def crear_variables(df):\n",
    "    # Creación de variables\n",
    "    df['benefit'] = df['income'] - df['expenses'] # beneficios mensuales\n",
    "    df['assets_to_amount'] = df['assets'] - df['amount'] # activos - credito\n",
    "    df['loan_to_value'] = df['amount'] - df['price'] # monto prestamo - precio del bien o servicio\n",
    "    df['monthly_payment'] = df['amount'] / df['time'] # deuda crediticia a pagar mensualmente\n",
    "    df['monthly_savings'] = df['income'] - df['expenses'] - df['monthly_payment'] # ahorro mensual\n",
    "    df['age_end_payment'] = df['age'] + (df['time'] // 12) # edad + meses en pagar\n",
    "    \n",
    "    # Eliminacion de variables\n",
    "    df.drop(['debt', 'price'], axis=1, inplace=True)\n",
    "    \n",
    "    return df"
   ]
  },
  {
   "cell_type": "code",
   "execution_count": 89,
   "id": "8bbd94f2",
   "metadata": {},
   "outputs": [],
   "source": [
    "# Ejecutamos la función\n",
    "df = crear_variables(df)"
   ]
  },
  {
   "cell_type": "markdown",
   "id": "61910faa",
   "metadata": {},
   "source": [
    "<br>\n",
    "<br>"
   ]
  },
  {
   "cell_type": "markdown",
   "id": "c20ac5e7",
   "metadata": {},
   "source": [
    "## Preparación del Dataset"
   ]
  },
  {
   "cell_type": "code",
   "execution_count": 111,
   "id": "3f74072c",
   "metadata": {},
   "outputs": [],
   "source": [
    "# Dividimos el dataframe entre entrenamiento y validacion\n",
    "x = df.drop(columns=['status'])\n",
    "y = df.status\n",
    "\n",
    "x_train, x_test, y_train, y_test = train_test_split(x, y, test_size=0.2, random_state=99)"
   ]
  },
  {
   "cell_type": "markdown",
   "id": "76718153",
   "metadata": {},
   "source": [
    "**Ahora comprobaremos si los resultados de los modelos son mejores trás el preprocesamiento**"
   ]
  },
  {
   "cell_type": "markdown",
   "id": "9f9eb4c1",
   "metadata": {},
   "source": [
    "<br>\n",
    "<br>"
   ]
  },
  {
   "cell_type": "markdown",
   "id": "b851560e",
   "metadata": {},
   "source": [
    "## Modelos"
   ]
  },
  {
   "cell_type": "markdown",
   "id": "2f6c0efd",
   "metadata": {},
   "source": [
    "#### RandomForest"
   ]
  },
  {
   "cell_type": "code",
   "execution_count": 112,
   "id": "d3da9458",
   "metadata": {},
   "outputs": [],
   "source": [
    "# Buscamos los hiperparamentros para el modelo RandomForest\n",
    "from flaml import AutoML\n",
    "\n",
    "automl_forest = AutoML()\n",
    "settings = {\n",
    "    'task': 'classification',\n",
    "    'estimator_list': ['rf'],\n",
    "    'time_budget': 600,\n",
    "    'metric': 'roc_auc',\n",
    "    'verbose': 1\n",
    "}\n",
    "\n",
    "automl_forest.fit(x_train, y_train, **settings)"
   ]
  },
  {
   "cell_type": "code",
   "execution_count": 113,
   "id": "044ae604",
   "metadata": {},
   "outputs": [],
   "source": [
    "# Predecimos con el modelo con hiperparametros\n",
    "y_pred_train_rf = automl_forest.predict(x_train)\n",
    "probs_train_rf = automl_forest.predict_proba(x_train)[:, 1]\n",
    "\n",
    "y_pred_test_rf = automl_forest.predict(x_test)\n",
    "probs_test_rf = automl_forest.predict_proba(x_test)[:, 1]"
   ]
  },
  {
   "cell_type": "code",
   "execution_count": 114,
   "id": "e2e921d6",
   "metadata": {},
   "outputs": [
    {
     "data": {
      "text/html": [
       "<div>\n",
       "<style scoped>\n",
       "    .dataframe tbody tr th:only-of-type {\n",
       "        vertical-align: middle;\n",
       "    }\n",
       "\n",
       "    .dataframe tbody tr th {\n",
       "        vertical-align: top;\n",
       "    }\n",
       "\n",
       "    .dataframe thead th {\n",
       "        text-align: right;\n",
       "    }\n",
       "</style>\n",
       "<table border=\"1\" class=\"dataframe\">\n",
       "  <thead>\n",
       "    <tr style=\"text-align: right;\">\n",
       "      <th></th>\n",
       "      <th>Test AUC</th>\n",
       "      <th>Test Accuracy</th>\n",
       "      <th>Underfitting</th>\n",
       "      <th>Overfitting</th>\n",
       "    </tr>\n",
       "  </thead>\n",
       "  <tbody>\n",
       "    <tr>\n",
       "      <th>CatBoost</th>\n",
       "      <td>0.851683</td>\n",
       "      <td>0.804795</td>\n",
       "      <td>0.0</td>\n",
       "      <td>0.029549</td>\n",
       "    </tr>\n",
       "    <tr>\n",
       "      <th>RandomForest</th>\n",
       "      <td>0.849367</td>\n",
       "      <td>0.804795</td>\n",
       "      <td>0.0</td>\n",
       "      <td>0.096049</td>\n",
       "    </tr>\n",
       "    <tr>\n",
       "      <th>RandomForest (FE)</th>\n",
       "      <td>0.847920</td>\n",
       "      <td>0.800228</td>\n",
       "      <td>0.0</td>\n",
       "      <td>0.077829</td>\n",
       "    </tr>\n",
       "    <tr>\n",
       "      <th>LightGBM</th>\n",
       "      <td>0.847624</td>\n",
       "      <td>0.807078</td>\n",
       "      <td>0.0</td>\n",
       "      <td>0.037350</td>\n",
       "    </tr>\n",
       "    <tr>\n",
       "      <th>XGBoost</th>\n",
       "      <td>0.846096</td>\n",
       "      <td>0.813927</td>\n",
       "      <td>0.0</td>\n",
       "      <td>0.044899</td>\n",
       "    </tr>\n",
       "    <tr>\n",
       "      <th>KNN</th>\n",
       "      <td>0.704772</td>\n",
       "      <td>0.750000</td>\n",
       "      <td>0.0</td>\n",
       "      <td>0.295228</td>\n",
       "    </tr>\n",
       "  </tbody>\n",
       "</table>\n",
       "</div>"
      ],
      "text/plain": [
       "                   Test AUC  Test Accuracy  Underfitting  Overfitting\n",
       "CatBoost           0.851683       0.804795           0.0     0.029549\n",
       "RandomForest       0.849367       0.804795           0.0     0.096049\n",
       "RandomForest (FE)  0.847920       0.800228           0.0     0.077829\n",
       "LightGBM           0.847624       0.807078           0.0     0.037350\n",
       "XGBoost            0.846096       0.813927           0.0     0.044899\n",
       "KNN                0.704772       0.750000           0.0     0.295228"
      ]
     },
     "execution_count": 114,
     "metadata": {},
     "output_type": "execute_result"
    }
   ],
   "source": [
    "# Verificamos la eficiencia de nuestro modelo\n",
    "train_auc = roc_auc_score(y_train, probs_train_rf)\n",
    "train_accuracy = accuracy_score(y_train, y_pred_train_rf)\n",
    "\n",
    "test_auc = roc_auc_score(y_test, probs_test_rf)\n",
    "test_accuracy = accuracy_score(y_test, y_pred_test_rf)\n",
    "\n",
    "# Ejecutamos la función que nos indica la relacion de resultados entre train y test\n",
    "under, over = evaluar_fit(train_auc, test_auc)\n",
    "\n",
    "# Agregamos los resultados al df de resultados\n",
    "df_resultados.loc[\"RandomForest (FE)\"] = [test_auc, test_accuracy, under, over]\n",
    "df_resultados.sort_values(by='Test AUC', ascending=False)"
   ]
  },
  {
   "cell_type": "markdown",
   "id": "5d7ce1fa",
   "metadata": {},
   "source": [
    "<br>\n",
    "<br>"
   ]
  },
  {
   "cell_type": "markdown",
   "id": "1d7bb084",
   "metadata": {},
   "source": [
    "#### XGBoost"
   ]
  },
  {
   "cell_type": "code",
   "execution_count": 115,
   "id": "09d566a0",
   "metadata": {},
   "outputs": [],
   "source": [
    "automl_xgb = AutoML()\n",
    "settings = {\n",
    "    'task': 'classification',\n",
    "    'estimator_list': ['xgboost'],\n",
    "    'time_budget': 600,\n",
    "    'metric': 'roc_auc',\n",
    "    'verbose': 1\n",
    "}\n",
    "\n",
    "automl_xgb.fit(x_train, y_train, **settings)"
   ]
  },
  {
   "cell_type": "code",
   "execution_count": 116,
   "id": "da55e3bc",
   "metadata": {},
   "outputs": [],
   "source": [
    "# Predecimos con el modelo con hiperparametros\n",
    "y_pred_train_xgb = automl_xgb.predict(x_train)\n",
    "probs_train_xgb = automl_xgb.predict_proba(x_train)[:, 1]\n",
    "\n",
    "y_pred_test_xgb = automl_xgb.predict(x_test)\n",
    "probs_test_xgb = automl_xgb.predict_proba(x_test)[:, 1]"
   ]
  },
  {
   "cell_type": "code",
   "execution_count": 117,
   "id": "13277f68",
   "metadata": {},
   "outputs": [
    {
     "data": {
      "text/html": [
       "<div>\n",
       "<style scoped>\n",
       "    .dataframe tbody tr th:only-of-type {\n",
       "        vertical-align: middle;\n",
       "    }\n",
       "\n",
       "    .dataframe tbody tr th {\n",
       "        vertical-align: top;\n",
       "    }\n",
       "\n",
       "    .dataframe thead th {\n",
       "        text-align: right;\n",
       "    }\n",
       "</style>\n",
       "<table border=\"1\" class=\"dataframe\">\n",
       "  <thead>\n",
       "    <tr style=\"text-align: right;\">\n",
       "      <th></th>\n",
       "      <th>Test AUC</th>\n",
       "      <th>Test Accuracy</th>\n",
       "      <th>Underfitting</th>\n",
       "      <th>Overfitting</th>\n",
       "    </tr>\n",
       "  </thead>\n",
       "  <tbody>\n",
       "    <tr>\n",
       "      <th>XGBoost (FE)</th>\n",
       "      <td>0.854260</td>\n",
       "      <td>0.813927</td>\n",
       "      <td>0.0</td>\n",
       "      <td>0.025784</td>\n",
       "    </tr>\n",
       "    <tr>\n",
       "      <th>CatBoost</th>\n",
       "      <td>0.851683</td>\n",
       "      <td>0.804795</td>\n",
       "      <td>0.0</td>\n",
       "      <td>0.029549</td>\n",
       "    </tr>\n",
       "    <tr>\n",
       "      <th>RandomForest</th>\n",
       "      <td>0.849367</td>\n",
       "      <td>0.804795</td>\n",
       "      <td>0.0</td>\n",
       "      <td>0.096049</td>\n",
       "    </tr>\n",
       "    <tr>\n",
       "      <th>RandomForest (FE)</th>\n",
       "      <td>0.847920</td>\n",
       "      <td>0.800228</td>\n",
       "      <td>0.0</td>\n",
       "      <td>0.077829</td>\n",
       "    </tr>\n",
       "    <tr>\n",
       "      <th>LightGBM</th>\n",
       "      <td>0.847624</td>\n",
       "      <td>0.807078</td>\n",
       "      <td>0.0</td>\n",
       "      <td>0.037350</td>\n",
       "    </tr>\n",
       "    <tr>\n",
       "      <th>XGBoost</th>\n",
       "      <td>0.846096</td>\n",
       "      <td>0.813927</td>\n",
       "      <td>0.0</td>\n",
       "      <td>0.044899</td>\n",
       "    </tr>\n",
       "    <tr>\n",
       "      <th>KNN</th>\n",
       "      <td>0.704772</td>\n",
       "      <td>0.750000</td>\n",
       "      <td>0.0</td>\n",
       "      <td>0.295228</td>\n",
       "    </tr>\n",
       "  </tbody>\n",
       "</table>\n",
       "</div>"
      ],
      "text/plain": [
       "                   Test AUC  Test Accuracy  Underfitting  Overfitting\n",
       "XGBoost (FE)       0.854260       0.813927           0.0     0.025784\n",
       "CatBoost           0.851683       0.804795           0.0     0.029549\n",
       "RandomForest       0.849367       0.804795           0.0     0.096049\n",
       "RandomForest (FE)  0.847920       0.800228           0.0     0.077829\n",
       "LightGBM           0.847624       0.807078           0.0     0.037350\n",
       "XGBoost            0.846096       0.813927           0.0     0.044899\n",
       "KNN                0.704772       0.750000           0.0     0.295228"
      ]
     },
     "execution_count": 117,
     "metadata": {},
     "output_type": "execute_result"
    }
   ],
   "source": [
    "# Comprobamos los resultados del modelo con hiperparametros\n",
    "train_auc = roc_auc_score(y_train, probs_train_xgb)\n",
    "train_accuracy = accuracy_score(y_train, y_pred_train_xgb)\n",
    "\n",
    "test_auc = roc_auc_score(y_test, probs_test_xgb)\n",
    "test_accuracy = accuracy_score(y_test, y_pred_test_xgb)\n",
    "\n",
    "# Ejecutamos la función que nos indica la relacion de resultados entre train y test\n",
    "under, over = evaluar_fit(train_auc, test_auc)\n",
    "\n",
    "# Agregamos los resultados al df de resultados\n",
    "df_resultados.loc[\"XGBoost (FE)\"] = [test_auc, test_accuracy, under, over]\n",
    "df_resultados.sort_values(by='Test AUC', ascending=False)"
   ]
  },
  {
   "cell_type": "markdown",
   "id": "351bae2f",
   "metadata": {},
   "source": [
    "<br>\n",
    "<br>"
   ]
  },
  {
   "cell_type": "markdown",
   "id": "861ab8e9",
   "metadata": {},
   "source": [
    "#### CatBoost"
   ]
  },
  {
   "cell_type": "code",
   "execution_count": 118,
   "id": "0941b5f0",
   "metadata": {},
   "outputs": [],
   "source": [
    "# Buscamos los mejores hiperparametros para CatBoost\n",
    "automl_cat = AutoML()\n",
    "settings = {\n",
    "    'task': 'classification',\n",
    "    'estimator_list': ['catboost'],\n",
    "    'time_budget': 600,\n",
    "    'metric': 'roc_auc',\n",
    "    'verbose': 1\n",
    "}\n",
    "\n",
    "automl_cat.fit(x_train, y_train, **settings)"
   ]
  },
  {
   "cell_type": "code",
   "execution_count": 119,
   "id": "a20df1d4",
   "metadata": {},
   "outputs": [],
   "source": [
    "# Predecimos con el modelo con hiperparametros\n",
    "y_pred_train_cat = automl_cat.predict(x_train)\n",
    "probs_train_cat = automl_cat.predict_proba(x_train)[:, 1]\n",
    "\n",
    "y_pred_test_cat = automl_cat.predict(x_test)\n",
    "probs_test_cat = automl_cat.predict_proba(x_test)[:, 1]"
   ]
  },
  {
   "cell_type": "code",
   "execution_count": 120,
   "id": "8031c34d",
   "metadata": {},
   "outputs": [
    {
     "data": {
      "text/html": [
       "<div>\n",
       "<style scoped>\n",
       "    .dataframe tbody tr th:only-of-type {\n",
       "        vertical-align: middle;\n",
       "    }\n",
       "\n",
       "    .dataframe tbody tr th {\n",
       "        vertical-align: top;\n",
       "    }\n",
       "\n",
       "    .dataframe thead th {\n",
       "        text-align: right;\n",
       "    }\n",
       "</style>\n",
       "<table border=\"1\" class=\"dataframe\">\n",
       "  <thead>\n",
       "    <tr style=\"text-align: right;\">\n",
       "      <th></th>\n",
       "      <th>Test AUC</th>\n",
       "      <th>Test Accuracy</th>\n",
       "      <th>Underfitting</th>\n",
       "      <th>Overfitting</th>\n",
       "    </tr>\n",
       "  </thead>\n",
       "  <tbody>\n",
       "    <tr>\n",
       "      <th>CatBoost (FE)</th>\n",
       "      <td>0.855061</td>\n",
       "      <td>0.812785</td>\n",
       "      <td>0.0</td>\n",
       "      <td>0.028996</td>\n",
       "    </tr>\n",
       "    <tr>\n",
       "      <th>XGBoost (FE)</th>\n",
       "      <td>0.854260</td>\n",
       "      <td>0.813927</td>\n",
       "      <td>0.0</td>\n",
       "      <td>0.025784</td>\n",
       "    </tr>\n",
       "    <tr>\n",
       "      <th>CatBoost</th>\n",
       "      <td>0.851683</td>\n",
       "      <td>0.804795</td>\n",
       "      <td>0.0</td>\n",
       "      <td>0.029549</td>\n",
       "    </tr>\n",
       "    <tr>\n",
       "      <th>RandomForest</th>\n",
       "      <td>0.849367</td>\n",
       "      <td>0.804795</td>\n",
       "      <td>0.0</td>\n",
       "      <td>0.096049</td>\n",
       "    </tr>\n",
       "    <tr>\n",
       "      <th>RandomForest (FE)</th>\n",
       "      <td>0.847920</td>\n",
       "      <td>0.800228</td>\n",
       "      <td>0.0</td>\n",
       "      <td>0.077829</td>\n",
       "    </tr>\n",
       "    <tr>\n",
       "      <th>LightGBM</th>\n",
       "      <td>0.847624</td>\n",
       "      <td>0.807078</td>\n",
       "      <td>0.0</td>\n",
       "      <td>0.037350</td>\n",
       "    </tr>\n",
       "    <tr>\n",
       "      <th>XGBoost</th>\n",
       "      <td>0.846096</td>\n",
       "      <td>0.813927</td>\n",
       "      <td>0.0</td>\n",
       "      <td>0.044899</td>\n",
       "    </tr>\n",
       "    <tr>\n",
       "      <th>KNN</th>\n",
       "      <td>0.704772</td>\n",
       "      <td>0.750000</td>\n",
       "      <td>0.0</td>\n",
       "      <td>0.295228</td>\n",
       "    </tr>\n",
       "  </tbody>\n",
       "</table>\n",
       "</div>"
      ],
      "text/plain": [
       "                   Test AUC  Test Accuracy  Underfitting  Overfitting\n",
       "CatBoost (FE)      0.855061       0.812785           0.0     0.028996\n",
       "XGBoost (FE)       0.854260       0.813927           0.0     0.025784\n",
       "CatBoost           0.851683       0.804795           0.0     0.029549\n",
       "RandomForest       0.849367       0.804795           0.0     0.096049\n",
       "RandomForest (FE)  0.847920       0.800228           0.0     0.077829\n",
       "LightGBM           0.847624       0.807078           0.0     0.037350\n",
       "XGBoost            0.846096       0.813927           0.0     0.044899\n",
       "KNN                0.704772       0.750000           0.0     0.295228"
      ]
     },
     "execution_count": 120,
     "metadata": {},
     "output_type": "execute_result"
    }
   ],
   "source": [
    "# Comprobamos los resultados del modelo con hiperparametros\n",
    "train_auc = roc_auc_score(y_train, probs_train_cat)\n",
    "train_accuracy = accuracy_score(y_train, y_pred_train_cat)\n",
    "\n",
    "test_auc = roc_auc_score(y_test, probs_test_cat)\n",
    "test_accuracy = accuracy_score(y_test, y_pred_test_cat)\n",
    "\n",
    "# Ejecutamos la función que nos indica la relacion de resultados entre train y test\n",
    "under, over = evaluar_fit(train_auc, test_auc)\n",
    "\n",
    "# Agregamos los resultados al df de resultados\n",
    "df_resultados.loc[\"CatBoost (FE)\"] = [test_auc, test_accuracy, under, over]\n",
    "df_resultados.sort_values(by='Test AUC', ascending=False)"
   ]
  },
  {
   "cell_type": "markdown",
   "id": "f894c216",
   "metadata": {},
   "source": [
    "<br>\n",
    "<br>"
   ]
  },
  {
   "cell_type": "markdown",
   "id": "eacaf2ab",
   "metadata": {},
   "source": [
    "#### LightGBM"
   ]
  },
  {
   "cell_type": "code",
   "execution_count": 121,
   "id": "fe770c4b",
   "metadata": {},
   "outputs": [],
   "source": [
    "# Buscamos los mejores hiperparametros para LightGBM\n",
    "automl_lgbm = AutoML()\n",
    "settings = {\n",
    "    'task': 'classification',\n",
    "    'estimator_list': ['lgbm'],\n",
    "    'time_budget': 600,\n",
    "    'metric': 'roc_auc',\n",
    "    'verbose': 1\n",
    "}\n",
    "\n",
    "automl_lgbm.fit(x_train, y_train, **settings)"
   ]
  },
  {
   "cell_type": "code",
   "execution_count": 122,
   "id": "1741a462",
   "metadata": {},
   "outputs": [],
   "source": [
    "# Predecimos con el modelo con hiperparametros\n",
    "y_pred_train_lgbm = automl_lgbm.predict(x_train)\n",
    "probs_train_lgbm = automl_lgbm.predict_proba(x_train)[:, 1]\n",
    "\n",
    "y_pred_test_lgbm = automl_lgbm.predict(x_test)\n",
    "probs_test_lgbm = automl_lgbm.predict_proba(x_test)[:, 1]"
   ]
  },
  {
   "cell_type": "code",
   "execution_count": 123,
   "id": "6b9a5169",
   "metadata": {},
   "outputs": [
    {
     "data": {
      "text/html": [
       "<div>\n",
       "<style scoped>\n",
       "    .dataframe tbody tr th:only-of-type {\n",
       "        vertical-align: middle;\n",
       "    }\n",
       "\n",
       "    .dataframe tbody tr th {\n",
       "        vertical-align: top;\n",
       "    }\n",
       "\n",
       "    .dataframe thead th {\n",
       "        text-align: right;\n",
       "    }\n",
       "</style>\n",
       "<table border=\"1\" class=\"dataframe\">\n",
       "  <thead>\n",
       "    <tr style=\"text-align: right;\">\n",
       "      <th></th>\n",
       "      <th>Test AUC</th>\n",
       "      <th>Test Accuracy</th>\n",
       "      <th>Underfitting</th>\n",
       "      <th>Overfitting</th>\n",
       "    </tr>\n",
       "  </thead>\n",
       "  <tbody>\n",
       "    <tr>\n",
       "      <th>LightGBM (FE)</th>\n",
       "      <td>0.857622</td>\n",
       "      <td>0.812785</td>\n",
       "      <td>0.0</td>\n",
       "      <td>0.035380</td>\n",
       "    </tr>\n",
       "    <tr>\n",
       "      <th>CatBoost (FE)</th>\n",
       "      <td>0.855061</td>\n",
       "      <td>0.812785</td>\n",
       "      <td>0.0</td>\n",
       "      <td>0.028996</td>\n",
       "    </tr>\n",
       "    <tr>\n",
       "      <th>XGBoost (FE)</th>\n",
       "      <td>0.854260</td>\n",
       "      <td>0.813927</td>\n",
       "      <td>0.0</td>\n",
       "      <td>0.025784</td>\n",
       "    </tr>\n",
       "    <tr>\n",
       "      <th>CatBoost</th>\n",
       "      <td>0.851683</td>\n",
       "      <td>0.804795</td>\n",
       "      <td>0.0</td>\n",
       "      <td>0.029549</td>\n",
       "    </tr>\n",
       "    <tr>\n",
       "      <th>RandomForest</th>\n",
       "      <td>0.849367</td>\n",
       "      <td>0.804795</td>\n",
       "      <td>0.0</td>\n",
       "      <td>0.096049</td>\n",
       "    </tr>\n",
       "    <tr>\n",
       "      <th>RandomForest (FE)</th>\n",
       "      <td>0.847920</td>\n",
       "      <td>0.800228</td>\n",
       "      <td>0.0</td>\n",
       "      <td>0.077829</td>\n",
       "    </tr>\n",
       "    <tr>\n",
       "      <th>LightGBM</th>\n",
       "      <td>0.847624</td>\n",
       "      <td>0.807078</td>\n",
       "      <td>0.0</td>\n",
       "      <td>0.037350</td>\n",
       "    </tr>\n",
       "    <tr>\n",
       "      <th>XGBoost</th>\n",
       "      <td>0.846096</td>\n",
       "      <td>0.813927</td>\n",
       "      <td>0.0</td>\n",
       "      <td>0.044899</td>\n",
       "    </tr>\n",
       "    <tr>\n",
       "      <th>KNN</th>\n",
       "      <td>0.704772</td>\n",
       "      <td>0.750000</td>\n",
       "      <td>0.0</td>\n",
       "      <td>0.295228</td>\n",
       "    </tr>\n",
       "  </tbody>\n",
       "</table>\n",
       "</div>"
      ],
      "text/plain": [
       "                   Test AUC  Test Accuracy  Underfitting  Overfitting\n",
       "LightGBM (FE)      0.857622       0.812785           0.0     0.035380\n",
       "CatBoost (FE)      0.855061       0.812785           0.0     0.028996\n",
       "XGBoost (FE)       0.854260       0.813927           0.0     0.025784\n",
       "CatBoost           0.851683       0.804795           0.0     0.029549\n",
       "RandomForest       0.849367       0.804795           0.0     0.096049\n",
       "RandomForest (FE)  0.847920       0.800228           0.0     0.077829\n",
       "LightGBM           0.847624       0.807078           0.0     0.037350\n",
       "XGBoost            0.846096       0.813927           0.0     0.044899\n",
       "KNN                0.704772       0.750000           0.0     0.295228"
      ]
     },
     "execution_count": 123,
     "metadata": {},
     "output_type": "execute_result"
    }
   ],
   "source": [
    "# Comprobamos los resultados del modelo con hiperparametros\n",
    "train_auc = roc_auc_score(y_train, probs_train_lgbm)\n",
    "train_accuracy = accuracy_score(y_train, y_pred_train_lgbm)\n",
    "\n",
    "test_auc = roc_auc_score(y_test, probs_test_lgbm)\n",
    "test_accuracy = accuracy_score(y_test, y_pred_test_lgbm)\n",
    "\n",
    "# Ejecutamos la función que nos indica la relacion de resultados entre train y test\n",
    "under, over = evaluar_fit(train_auc, test_auc)\n",
    "\n",
    "# Agregamos los resultados al df de resultados\n",
    "df_resultados.loc[\"LightGBM (FE)\"] = [test_auc, test_accuracy, under, over]\n",
    "df_resultados.sort_values(by='Test AUC', ascending=False)"
   ]
  },
  {
   "cell_type": "markdown",
   "id": "a4f85bd6",
   "metadata": {},
   "source": [
    "**Podemos ver que gracias al prreprocesamiento hemos conseguido mejorar los resultados en test e incluso reducir el overfitting**"
   ]
  },
  {
   "cell_type": "markdown",
   "id": "3db47bab",
   "metadata": {},
   "source": [
    "<br>\n",
    "<br>"
   ]
  },
  {
   "cell_type": "markdown",
   "id": "5a8e474d",
   "metadata": {},
   "source": [
    "**Ahora probaremos a vectorizar, para ver si conseguimos reducir el overfitting**"
   ]
  },
  {
   "cell_type": "markdown",
   "id": "5db6aede",
   "metadata": {},
   "source": [
    "### Vectorizar"
   ]
  },
  {
   "cell_type": "code",
   "execution_count": 124,
   "id": "8e3a4b25",
   "metadata": {},
   "outputs": [],
   "source": [
    "# Tenemos que convertir los dataframes a diccionarios ya que DictVectorizer no funciona con dataframes\n",
    "x_train_vec = x_train.to_dict(orient='records') # records es una palabra reservada, no hace referencia a la columna\n",
    "x_test_vec = x_test.to_dict(orient='records')\n",
    "\n",
    "# Vectorizamos\n",
    "from sklearn.feature_extraction import DictVectorizer\n",
    "\n",
    "dv = DictVectorizer(sparse=False)\n",
    "\n",
    "x_train_vec = dv.fit_transform(x_train_vec)\n",
    "x_test_vec = dv.transform(x_test_vec)"
   ]
  },
  {
   "cell_type": "markdown",
   "id": "d88b5064",
   "metadata": {},
   "source": [
    "<br>\n",
    "<br>"
   ]
  },
  {
   "cell_type": "markdown",
   "id": "6b740574",
   "metadata": {},
   "source": [
    "**Volvemos a entrenar los modelos con los datos vectorizados, en este caso solo lo haremos con los 2 mejores modelos**"
   ]
  },
  {
   "cell_type": "markdown",
   "id": "553a0891",
   "metadata": {},
   "source": [
    "#### LightGBM"
   ]
  },
  {
   "cell_type": "code",
   "execution_count": 125,
   "id": "e1f2b078",
   "metadata": {},
   "outputs": [],
   "source": [
    "# Buscamos los hiperparamentros para el modelo xgboost\n",
    "automl_lgbm = AutoML()\n",
    "settings = {\n",
    "    'task': 'classification',\n",
    "    'estimator_list': ['lgbm'],\n",
    "    'time_budget': 600,\n",
    "    'metric': 'roc_auc',\n",
    "    'verbose': 1\n",
    "}\n",
    "\n",
    "automl_lgbm.fit(x_train_vec, y_train, **settings)"
   ]
  },
  {
   "cell_type": "code",
   "execution_count": 126,
   "id": "998fa9b8",
   "metadata": {},
   "outputs": [],
   "source": [
    "# Predecimos con el modelo con hiperparametros\n",
    "y_pred_train_lgbm = automl_lgbm.predict(x_train_vec)\n",
    "probs_train_lgbm = automl_lgbm.predict_proba(x_train_vec)[:, 1]\n",
    "\n",
    "y_pred_test_lgbm = automl_lgbm.predict(x_test_vec)\n",
    "probs_test_lgbm = automl_lgbm.predict_proba(x_test_vec)[:, 1]"
   ]
  },
  {
   "cell_type": "code",
   "execution_count": 127,
   "id": "0e9c54ec",
   "metadata": {},
   "outputs": [
    {
     "data": {
      "text/html": [
       "<div>\n",
       "<style scoped>\n",
       "    .dataframe tbody tr th:only-of-type {\n",
       "        vertical-align: middle;\n",
       "    }\n",
       "\n",
       "    .dataframe tbody tr th {\n",
       "        vertical-align: top;\n",
       "    }\n",
       "\n",
       "    .dataframe thead th {\n",
       "        text-align: right;\n",
       "    }\n",
       "</style>\n",
       "<table border=\"1\" class=\"dataframe\">\n",
       "  <thead>\n",
       "    <tr style=\"text-align: right;\">\n",
       "      <th></th>\n",
       "      <th>Test AUC</th>\n",
       "      <th>Test Accuracy</th>\n",
       "      <th>Underfitting</th>\n",
       "      <th>Overfitting</th>\n",
       "    </tr>\n",
       "  </thead>\n",
       "  <tbody>\n",
       "    <tr>\n",
       "      <th>LightGBM (FE)</th>\n",
       "      <td>0.857622</td>\n",
       "      <td>0.812785</td>\n",
       "      <td>0.0</td>\n",
       "      <td>0.035380</td>\n",
       "    </tr>\n",
       "    <tr>\n",
       "      <th>LightGBM (FE + vec)</th>\n",
       "      <td>0.855418</td>\n",
       "      <td>0.817352</td>\n",
       "      <td>0.0</td>\n",
       "      <td>0.027317</td>\n",
       "    </tr>\n",
       "    <tr>\n",
       "      <th>CatBoost (FE)</th>\n",
       "      <td>0.855061</td>\n",
       "      <td>0.812785</td>\n",
       "      <td>0.0</td>\n",
       "      <td>0.028996</td>\n",
       "    </tr>\n",
       "    <tr>\n",
       "      <th>XGBoost (FE)</th>\n",
       "      <td>0.854260</td>\n",
       "      <td>0.813927</td>\n",
       "      <td>0.0</td>\n",
       "      <td>0.025784</td>\n",
       "    </tr>\n",
       "    <tr>\n",
       "      <th>CatBoost</th>\n",
       "      <td>0.851683</td>\n",
       "      <td>0.804795</td>\n",
       "      <td>0.0</td>\n",
       "      <td>0.029549</td>\n",
       "    </tr>\n",
       "    <tr>\n",
       "      <th>RandomForest</th>\n",
       "      <td>0.849367</td>\n",
       "      <td>0.804795</td>\n",
       "      <td>0.0</td>\n",
       "      <td>0.096049</td>\n",
       "    </tr>\n",
       "    <tr>\n",
       "      <th>RandomForest (FE)</th>\n",
       "      <td>0.847920</td>\n",
       "      <td>0.800228</td>\n",
       "      <td>0.0</td>\n",
       "      <td>0.077829</td>\n",
       "    </tr>\n",
       "    <tr>\n",
       "      <th>LightGBM</th>\n",
       "      <td>0.847624</td>\n",
       "      <td>0.807078</td>\n",
       "      <td>0.0</td>\n",
       "      <td>0.037350</td>\n",
       "    </tr>\n",
       "    <tr>\n",
       "      <th>XGBoost</th>\n",
       "      <td>0.846096</td>\n",
       "      <td>0.813927</td>\n",
       "      <td>0.0</td>\n",
       "      <td>0.044899</td>\n",
       "    </tr>\n",
       "    <tr>\n",
       "      <th>KNN</th>\n",
       "      <td>0.704772</td>\n",
       "      <td>0.750000</td>\n",
       "      <td>0.0</td>\n",
       "      <td>0.295228</td>\n",
       "    </tr>\n",
       "  </tbody>\n",
       "</table>\n",
       "</div>"
      ],
      "text/plain": [
       "                     Test AUC  Test Accuracy  Underfitting  Overfitting\n",
       "LightGBM (FE)        0.857622       0.812785           0.0     0.035380\n",
       "LightGBM (FE + vec)  0.855418       0.817352           0.0     0.027317\n",
       "CatBoost (FE)        0.855061       0.812785           0.0     0.028996\n",
       "XGBoost (FE)         0.854260       0.813927           0.0     0.025784\n",
       "CatBoost             0.851683       0.804795           0.0     0.029549\n",
       "RandomForest         0.849367       0.804795           0.0     0.096049\n",
       "RandomForest (FE)    0.847920       0.800228           0.0     0.077829\n",
       "LightGBM             0.847624       0.807078           0.0     0.037350\n",
       "XGBoost              0.846096       0.813927           0.0     0.044899\n",
       "KNN                  0.704772       0.750000           0.0     0.295228"
      ]
     },
     "execution_count": 127,
     "metadata": {},
     "output_type": "execute_result"
    }
   ],
   "source": [
    "# Comprobamos los resultados del modelo con hiperparametros\n",
    "train_auc = roc_auc_score(y_train, probs_train_lgbm)\n",
    "train_accuracy = accuracy_score(y_train, y_pred_train_lgbm)\n",
    "\n",
    "test_auc = roc_auc_score(y_test, probs_test_lgbm)\n",
    "test_accuracy = accuracy_score(y_test, y_pred_test_lgbm)\n",
    "\n",
    "# Ejecutamos la función que nos indica la relacion de resultados entre train y test\n",
    "under, over = evaluar_fit(train_auc, test_auc)\n",
    "\n",
    "# Agregamos los resultados al df de resultados\n",
    "df_resultados.loc[\"LightGBM (FE + vec)\"] = [test_auc, test_accuracy, under, over]\n",
    "df_resultados.sort_values(by='Test AUC', ascending=False)"
   ]
  },
  {
   "cell_type": "markdown",
   "id": "169fb54d",
   "metadata": {},
   "source": [
    "<br>\n",
    "<br>"
   ]
  },
  {
   "cell_type": "markdown",
   "id": "38f77c4a",
   "metadata": {},
   "source": [
    "#### CatBoost"
   ]
  },
  {
   "cell_type": "code",
   "execution_count": 128,
   "id": "9d041084",
   "metadata": {},
   "outputs": [],
   "source": [
    "# Buscamos los mejores hiperparametros para CatBoost\n",
    "automl_cat = AutoML()\n",
    "settings = {\n",
    "    'task': 'classification',\n",
    "    'estimator_list': ['catboost'],\n",
    "    'time_budget': 600,\n",
    "    'metric': 'roc_auc',\n",
    "    'verbose': 1\n",
    "}\n",
    "\n",
    "automl_cat.fit(x_train_vec, y_train, **settings)"
   ]
  },
  {
   "cell_type": "code",
   "execution_count": 137,
   "id": "fea393b4",
   "metadata": {},
   "outputs": [],
   "source": [
    "# Predecimos con el modelo con hiperparametros\n",
    "y_pred_train_cat = automl_cat.predict(x_train_vec)\n",
    "probs_train_cat = automl_cat.predict_proba(x_train_vec)[:, 1]\n",
    "\n",
    "y_pred_test_cat = automl_cat.predict(x_test_vec)\n",
    "probs_test_cat = automl_cat.predict_proba(x_test_vec)[:, 1]"
   ]
  },
  {
   "cell_type": "code",
   "execution_count": 138,
   "id": "cf9946bd",
   "metadata": {},
   "outputs": [
    {
     "data": {
      "text/html": [
       "<div>\n",
       "<style scoped>\n",
       "    .dataframe tbody tr th:only-of-type {\n",
       "        vertical-align: middle;\n",
       "    }\n",
       "\n",
       "    .dataframe tbody tr th {\n",
       "        vertical-align: top;\n",
       "    }\n",
       "\n",
       "    .dataframe thead th {\n",
       "        text-align: right;\n",
       "    }\n",
       "</style>\n",
       "<table border=\"1\" class=\"dataframe\">\n",
       "  <thead>\n",
       "    <tr style=\"text-align: right;\">\n",
       "      <th></th>\n",
       "      <th>Test AUC</th>\n",
       "      <th>Test Accuracy</th>\n",
       "      <th>Underfitting</th>\n",
       "      <th>Overfitting</th>\n",
       "    </tr>\n",
       "  </thead>\n",
       "  <tbody>\n",
       "    <tr>\n",
       "      <th>LightGBM (FE)</th>\n",
       "      <td>0.857622</td>\n",
       "      <td>0.812785</td>\n",
       "      <td>0.0</td>\n",
       "      <td>0.035380</td>\n",
       "    </tr>\n",
       "    <tr>\n",
       "      <th>LightGBM (FE + vec)</th>\n",
       "      <td>0.855418</td>\n",
       "      <td>0.817352</td>\n",
       "      <td>0.0</td>\n",
       "      <td>0.027317</td>\n",
       "    </tr>\n",
       "    <tr>\n",
       "      <th>CatBoost (FE)</th>\n",
       "      <td>0.855061</td>\n",
       "      <td>0.812785</td>\n",
       "      <td>0.0</td>\n",
       "      <td>0.028996</td>\n",
       "    </tr>\n",
       "    <tr>\n",
       "      <th>XGBoost (FE)</th>\n",
       "      <td>0.854260</td>\n",
       "      <td>0.813927</td>\n",
       "      <td>0.0</td>\n",
       "      <td>0.025784</td>\n",
       "    </tr>\n",
       "    <tr>\n",
       "      <th>CatBoost (FE + vec)</th>\n",
       "      <td>0.853022</td>\n",
       "      <td>0.811644</td>\n",
       "      <td>0.0</td>\n",
       "      <td>0.030500</td>\n",
       "    </tr>\n",
       "    <tr>\n",
       "      <th>CatBoost</th>\n",
       "      <td>0.851683</td>\n",
       "      <td>0.804795</td>\n",
       "      <td>0.0</td>\n",
       "      <td>0.029549</td>\n",
       "    </tr>\n",
       "    <tr>\n",
       "      <th>RandomForest</th>\n",
       "      <td>0.849367</td>\n",
       "      <td>0.804795</td>\n",
       "      <td>0.0</td>\n",
       "      <td>0.096049</td>\n",
       "    </tr>\n",
       "    <tr>\n",
       "      <th>RandomForest (FE)</th>\n",
       "      <td>0.847920</td>\n",
       "      <td>0.800228</td>\n",
       "      <td>0.0</td>\n",
       "      <td>0.077829</td>\n",
       "    </tr>\n",
       "    <tr>\n",
       "      <th>LightGBM</th>\n",
       "      <td>0.847624</td>\n",
       "      <td>0.807078</td>\n",
       "      <td>0.0</td>\n",
       "      <td>0.037350</td>\n",
       "    </tr>\n",
       "    <tr>\n",
       "      <th>XGBoost</th>\n",
       "      <td>0.846096</td>\n",
       "      <td>0.813927</td>\n",
       "      <td>0.0</td>\n",
       "      <td>0.044899</td>\n",
       "    </tr>\n",
       "    <tr>\n",
       "      <th>KNN</th>\n",
       "      <td>0.704772</td>\n",
       "      <td>0.750000</td>\n",
       "      <td>0.0</td>\n",
       "      <td>0.295228</td>\n",
       "    </tr>\n",
       "  </tbody>\n",
       "</table>\n",
       "</div>"
      ],
      "text/plain": [
       "                     Test AUC  Test Accuracy  Underfitting  Overfitting\n",
       "LightGBM (FE)        0.857622       0.812785           0.0     0.035380\n",
       "LightGBM (FE + vec)  0.855418       0.817352           0.0     0.027317\n",
       "CatBoost (FE)        0.855061       0.812785           0.0     0.028996\n",
       "XGBoost (FE)         0.854260       0.813927           0.0     0.025784\n",
       "CatBoost (FE + vec)  0.853022       0.811644           0.0     0.030500\n",
       "CatBoost             0.851683       0.804795           0.0     0.029549\n",
       "RandomForest         0.849367       0.804795           0.0     0.096049\n",
       "RandomForest (FE)    0.847920       0.800228           0.0     0.077829\n",
       "LightGBM             0.847624       0.807078           0.0     0.037350\n",
       "XGBoost              0.846096       0.813927           0.0     0.044899\n",
       "KNN                  0.704772       0.750000           0.0     0.295228"
      ]
     },
     "execution_count": 138,
     "metadata": {},
     "output_type": "execute_result"
    }
   ],
   "source": [
    "# Comprobamos los resultados del modelo con hiperparametros\n",
    "train_auc = roc_auc_score(y_train, probs_train_cat)\n",
    "train_accuracy = accuracy_score(y_train, y_pred_train_cat)\n",
    "\n",
    "test_auc = roc_auc_score(y_test, probs_test_cat)\n",
    "test_accuracy = accuracy_score(y_test, y_pred_test_cat)\n",
    "\n",
    "# Ejecutamos la función que nos indica la relacion de resultados entre train y test\n",
    "under, over = evaluar_fit(train_auc, test_auc)\n",
    "\n",
    "# Agregamos los resultados al df de resultados\n",
    "df_resultados.loc[\"CatBoost (FE + vec)\"] = [test_auc, test_accuracy, under, over]\n",
    "df_resultados.sort_values(by='Test AUC', ascending=False)"
   ]
  },
  {
   "cell_type": "markdown",
   "id": "3422a5f1",
   "metadata": {},
   "source": [
    "<br>\n",
    "<br>"
   ]
  },
  {
   "cell_type": "markdown",
   "id": "14143482",
   "metadata": {},
   "source": [
    "#### XGBoost"
   ]
  },
  {
   "cell_type": "code",
   "execution_count": 131,
   "id": "485ab107",
   "metadata": {},
   "outputs": [],
   "source": [
    "# Buscamos los mejores hiperparametros para XGBoost\n",
    "automl_xgb = AutoML()\n",
    "settings = {\n",
    "    'task': 'classification',\n",
    "    'estimator_list': ['xgboost'],\n",
    "    'time_budget': 600,\n",
    "    'metric': 'roc_auc',\n",
    "    'verbose': 1\n",
    "}\n",
    "\n",
    "automl_xgb.fit(x_train_vec, y_train, **settings)"
   ]
  },
  {
   "cell_type": "code",
   "execution_count": 139,
   "id": "96391342",
   "metadata": {},
   "outputs": [],
   "source": [
    "# Predecimos con el modelo con hiperparametros\n",
    "y_pred_train_xgb = automl_xgb.predict(x_train_vec)\n",
    "probs_train_xgb = automl_xgb.predict_proba(x_train_vec)[:, 1]\n",
    "\n",
    "y_pred_test_xgb = automl_xgb.predict(x_test_vec)\n",
    "probs_test_xgb = automl_xgb.predict_proba(x_test_vec)[:, 1]"
   ]
  },
  {
   "cell_type": "code",
   "execution_count": 140,
   "id": "24388def",
   "metadata": {},
   "outputs": [
    {
     "data": {
      "text/html": [
       "<div>\n",
       "<style scoped>\n",
       "    .dataframe tbody tr th:only-of-type {\n",
       "        vertical-align: middle;\n",
       "    }\n",
       "\n",
       "    .dataframe tbody tr th {\n",
       "        vertical-align: top;\n",
       "    }\n",
       "\n",
       "    .dataframe thead th {\n",
       "        text-align: right;\n",
       "    }\n",
       "</style>\n",
       "<table border=\"1\" class=\"dataframe\">\n",
       "  <thead>\n",
       "    <tr style=\"text-align: right;\">\n",
       "      <th></th>\n",
       "      <th>Test AUC</th>\n",
       "      <th>Test Accuracy</th>\n",
       "      <th>Underfitting</th>\n",
       "      <th>Overfitting</th>\n",
       "    </tr>\n",
       "  </thead>\n",
       "  <tbody>\n",
       "    <tr>\n",
       "      <th>LightGBM (FE)</th>\n",
       "      <td>0.857622</td>\n",
       "      <td>0.812785</td>\n",
       "      <td>0.0</td>\n",
       "      <td>0.035380</td>\n",
       "    </tr>\n",
       "    <tr>\n",
       "      <th>LightGBM (FE + vec)</th>\n",
       "      <td>0.855418</td>\n",
       "      <td>0.817352</td>\n",
       "      <td>0.0</td>\n",
       "      <td>0.027317</td>\n",
       "    </tr>\n",
       "    <tr>\n",
       "      <th>CatBoost (FE)</th>\n",
       "      <td>0.855061</td>\n",
       "      <td>0.812785</td>\n",
       "      <td>0.0</td>\n",
       "      <td>0.028996</td>\n",
       "    </tr>\n",
       "    <tr>\n",
       "      <th>XGBoost (FE)</th>\n",
       "      <td>0.854260</td>\n",
       "      <td>0.813927</td>\n",
       "      <td>0.0</td>\n",
       "      <td>0.025784</td>\n",
       "    </tr>\n",
       "    <tr>\n",
       "      <th>XGBoost (FE + vec)</th>\n",
       "      <td>0.854072</td>\n",
       "      <td>0.816210</td>\n",
       "      <td>0.0</td>\n",
       "      <td>0.042097</td>\n",
       "    </tr>\n",
       "    <tr>\n",
       "      <th>CatBoost (FE + vec)</th>\n",
       "      <td>0.853022</td>\n",
       "      <td>0.811644</td>\n",
       "      <td>0.0</td>\n",
       "      <td>0.030500</td>\n",
       "    </tr>\n",
       "    <tr>\n",
       "      <th>CatBoost</th>\n",
       "      <td>0.851683</td>\n",
       "      <td>0.804795</td>\n",
       "      <td>0.0</td>\n",
       "      <td>0.029549</td>\n",
       "    </tr>\n",
       "    <tr>\n",
       "      <th>RandomForest</th>\n",
       "      <td>0.849367</td>\n",
       "      <td>0.804795</td>\n",
       "      <td>0.0</td>\n",
       "      <td>0.096049</td>\n",
       "    </tr>\n",
       "    <tr>\n",
       "      <th>RandomForest (FE)</th>\n",
       "      <td>0.847920</td>\n",
       "      <td>0.800228</td>\n",
       "      <td>0.0</td>\n",
       "      <td>0.077829</td>\n",
       "    </tr>\n",
       "    <tr>\n",
       "      <th>LightGBM</th>\n",
       "      <td>0.847624</td>\n",
       "      <td>0.807078</td>\n",
       "      <td>0.0</td>\n",
       "      <td>0.037350</td>\n",
       "    </tr>\n",
       "    <tr>\n",
       "      <th>XGBoost</th>\n",
       "      <td>0.846096</td>\n",
       "      <td>0.813927</td>\n",
       "      <td>0.0</td>\n",
       "      <td>0.044899</td>\n",
       "    </tr>\n",
       "    <tr>\n",
       "      <th>KNN</th>\n",
       "      <td>0.704772</td>\n",
       "      <td>0.750000</td>\n",
       "      <td>0.0</td>\n",
       "      <td>0.295228</td>\n",
       "    </tr>\n",
       "  </tbody>\n",
       "</table>\n",
       "</div>"
      ],
      "text/plain": [
       "                     Test AUC  Test Accuracy  Underfitting  Overfitting\n",
       "LightGBM (FE)        0.857622       0.812785           0.0     0.035380\n",
       "LightGBM (FE + vec)  0.855418       0.817352           0.0     0.027317\n",
       "CatBoost (FE)        0.855061       0.812785           0.0     0.028996\n",
       "XGBoost (FE)         0.854260       0.813927           0.0     0.025784\n",
       "XGBoost (FE + vec)   0.854072       0.816210           0.0     0.042097\n",
       "CatBoost (FE + vec)  0.853022       0.811644           0.0     0.030500\n",
       "CatBoost             0.851683       0.804795           0.0     0.029549\n",
       "RandomForest         0.849367       0.804795           0.0     0.096049\n",
       "RandomForest (FE)    0.847920       0.800228           0.0     0.077829\n",
       "LightGBM             0.847624       0.807078           0.0     0.037350\n",
       "XGBoost              0.846096       0.813927           0.0     0.044899\n",
       "KNN                  0.704772       0.750000           0.0     0.295228"
      ]
     },
     "execution_count": 140,
     "metadata": {},
     "output_type": "execute_result"
    }
   ],
   "source": [
    "# Comprobamos los resultados del modelo con hiperparametros\n",
    "train_auc = roc_auc_score(y_train, probs_train_xgb)\n",
    "train_accuracy = accuracy_score(y_train, y_pred_train_xgb)\n",
    "\n",
    "test_auc = roc_auc_score(y_test, probs_test_xgb)\n",
    "test_accuracy = accuracy_score(y_test, y_pred_test_xgb)\n",
    "\n",
    "# Ejecutamos la función que nos indica la relacion de resultados entre train y test\n",
    "under, over = evaluar_fit(train_auc, test_auc)\n",
    "\n",
    "# Agregamos los resultados al df de resultados\n",
    "df_resultados.loc[\"XGBoost (FE + vec)\"] = [test_auc, test_accuracy, under, over]\n",
    "df_resultados.sort_values(by='Test AUC', ascending=False)"
   ]
  },
  {
   "cell_type": "markdown",
   "id": "6bb26fe6",
   "metadata": {},
   "source": [
    "<br>\n",
    "<br>"
   ]
  },
  {
   "cell_type": "markdown",
   "id": "0fef59bb",
   "metadata": {},
   "source": [
    "<h1 style=\"text-align:left;\">Conclusión</h1>"
   ]
  },
  {
   "cell_type": "markdown",
   "id": "f3c7dbad",
   "metadata": {},
   "source": [
    "Podemos ver que mejoramos el ovefitting, con el modelo LightGBM, sin apenas perjudicar el resultado del test, por lo que decidimos quedarnos con el resultado de \"LightGBM (FE + vec)\", aunque sea un poco inferior pero tiene bastante menos overfitting"
   ]
  }
 ],
 "metadata": {
  "kernelspec": {
   "display_name": "Python 3 (ipykernel)",
   "language": "python",
   "name": "python3"
  },
  "language_info": {
   "codemirror_mode": {
    "name": "ipython",
    "version": 3
   },
   "file_extension": ".py",
   "mimetype": "text/x-python",
   "name": "python",
   "nbconvert_exporter": "python",
   "pygments_lexer": "ipython3",
   "version": "3.10.9"
  }
 },
 "nbformat": 4,
 "nbformat_minor": 5
}
